{
 "cells": [
  {
   "cell_type": "markdown",
   "metadata": {},
   "source": [
    "## Task 9"
   ]
  },
  {
   "cell_type": "code",
   "execution_count": 35,
   "metadata": {},
   "outputs": [],
   "source": [
    "import matplotlib.pyplot as plt\n",
    "import numpy as np\n",
    "from time import time"
   ]
  },
  {
   "cell_type": "code",
   "execution_count": null,
   "metadata": {},
   "outputs": [],
   "source": []
  },
  {
   "cell_type": "code",
   "execution_count": 7,
   "metadata": {},
   "outputs": [],
   "source": [
    "%load_ext autoreload\n",
    "%autoreload 2"
   ]
  },
  {
   "cell_type": "code",
   "execution_count": 8,
   "metadata": {},
   "outputs": [],
   "source": [
    "from main import average_particle_simulation"
   ]
  },
  {
   "cell_type": "code",
   "execution_count": 9,
   "metadata": {},
   "outputs": [],
   "source": [
    "particle_1 = {\n",
    "        \"r\": 12e-9,\n",
    "        \"L\": 20e-6,\n",
    "        \"alpha\": 0.2,\n",
    "        \"eta\": 1e-3,\n",
    "        \"kbt\": 26 * 1.60e-22,\n",
    "        \"delta_u\": 80 * 1.60e-19,\n",
    "    }"
   ]
  },
  {
   "cell_type": "code",
   "execution_count": 24,
   "metadata": {},
   "outputs": [
    {
     "name": "stdout",
     "output_type": "stream",
     "text": [
      "{'r': 1.2e-08, 'L': 2e-05, 'alpha': 0.2, 'eta': 0.001, 'kbt': 4.16e-21, 'delta_u': 1.28e-17}\n",
      "gamma: 2.261946710584651e-10, \tomega: 141.47106052612915,\t D: 0.000325\n",
      "dt: 0.0125, \t N_steps: 56588\n",
      "Wall time: 6.13 s\n"
     ]
    }
   ],
   "source": [
    "%%time\n",
    "time = 5.\n",
    "N = 1000\n",
    "tau = 0.2\n",
    "avg_pos, nc = average_particle_simulation(particle_1, time, N, tau)"
   ]
  },
  {
   "cell_type": "code",
   "execution_count": 32,
   "metadata": {},
   "outputs": [],
   "source": [
    "tau = np.linspace(0,2, 20)"
   ]
  },
  {
   "cell_type": "code",
   "execution_count": 36,
   "metadata": {},
   "outputs": [
    {
     "name": "stdout",
     "output_type": "stream",
     "text": [
      "{'r': 1.2e-08, 'L': 2e-05, 'alpha': 0.2, 'eta': 0.001, 'kbt': 4.16e-21, 'delta_u': 1.28e-17}\n",
      "gamma: 2.261946710584651e-10, \tomega: 141.47106052612915,\t D: 0.000325\n",
      "dt: 0.0125, \t N_steps: 113176\n"
     ]
    },
    {
     "name": "stderr",
     "output_type": "stream",
     "text": [
      "C:\\Users\\KarlKristian\\Projects\\NumFys\\Assignment_2\\main.py:158: RuntimeWarning: invalid value encountered in double_scalars\n",
      "  return avg_pos\n"
     ]
    },
    {
     "name": "stdout",
     "output_type": "stream",
     "text": [
      "Loop took 24.23319435119629s\n",
      "{'r': 1.2e-08, 'L': 2e-05, 'alpha': 0.2, 'eta': 0.001, 'kbt': 4.16e-21, 'delta_u': 1.28e-17}\n",
      "gamma: 2.261946710584651e-10, \tomega: 141.47106052612915,\t D: 0.000325\n",
      "dt: 0.0125, \t N_steps: 113176\n",
      "Loop took 23.629836797714233s\n",
      "{'r': 1.2e-08, 'L': 2e-05, 'alpha': 0.2, 'eta': 0.001, 'kbt': 4.16e-21, 'delta_u': 1.28e-17}\n",
      "gamma: 2.261946710584651e-10, \tomega: 141.47106052612915,\t D: 0.000325\n",
      "dt: 0.0125, \t N_steps: 113176\n",
      "Loop took 23.476226091384888s\n",
      "{'r': 1.2e-08, 'L': 2e-05, 'alpha': 0.2, 'eta': 0.001, 'kbt': 4.16e-21, 'delta_u': 1.28e-17}\n",
      "gamma: 2.261946710584651e-10, \tomega: 141.47106052612915,\t D: 0.000325\n",
      "dt: 0.0125, \t N_steps: 113176\n",
      "Loop took 23.378479719161987s\n",
      "{'r': 1.2e-08, 'L': 2e-05, 'alpha': 0.2, 'eta': 0.001, 'kbt': 4.16e-21, 'delta_u': 1.28e-17}\n",
      "gamma: 2.261946710584651e-10, \tomega: 141.47106052612915,\t D: 0.000325\n",
      "dt: 0.0125, \t N_steps: 113176\n",
      "Loop took 23.32265830039978s\n",
      "{'r': 1.2e-08, 'L': 2e-05, 'alpha': 0.2, 'eta': 0.001, 'kbt': 4.16e-21, 'delta_u': 1.28e-17}\n",
      "gamma: 2.261946710584651e-10, \tomega: 141.47106052612915,\t D: 0.000325\n",
      "dt: 0.0125, \t N_steps: 113176\n",
      "Loop took 23.439318656921387s\n",
      "{'r': 1.2e-08, 'L': 2e-05, 'alpha': 0.2, 'eta': 0.001, 'kbt': 4.16e-21, 'delta_u': 1.28e-17}\n",
      "gamma: 2.261946710584651e-10, \tomega: 141.47106052612915,\t D: 0.000325\n",
      "dt: 0.0125, \t N_steps: 113176\n",
      "Loop took 23.371602296829224s\n",
      "{'r': 1.2e-08, 'L': 2e-05, 'alpha': 0.2, 'eta': 0.001, 'kbt': 4.16e-21, 'delta_u': 1.28e-17}\n",
      "gamma: 2.261946710584651e-10, \tomega: 141.47106052612915,\t D: 0.000325\n",
      "dt: 0.0125, \t N_steps: 113176\n",
      "Loop took 23.41139316558838s\n",
      "{'r': 1.2e-08, 'L': 2e-05, 'alpha': 0.2, 'eta': 0.001, 'kbt': 4.16e-21, 'delta_u': 1.28e-17}\n",
      "gamma: 2.261946710584651e-10, \tomega: 141.47106052612915,\t D: 0.000325\n",
      "dt: 0.0125, \t N_steps: 113176\n",
      "Loop took 23.44926381111145s\n",
      "{'r': 1.2e-08, 'L': 2e-05, 'alpha': 0.2, 'eta': 0.001, 'kbt': 4.16e-21, 'delta_u': 1.28e-17}\n",
      "gamma: 2.261946710584651e-10, \tomega: 141.47106052612915,\t D: 0.000325\n",
      "dt: 0.0125, \t N_steps: 113176\n",
      "Loop took 23.690646648406982s\n",
      "{'r': 1.2e-08, 'L': 2e-05, 'alpha': 0.2, 'eta': 0.001, 'kbt': 4.16e-21, 'delta_u': 1.28e-17}\n",
      "gamma: 2.261946710584651e-10, \tomega: 141.47106052612915,\t D: 0.000325\n",
      "dt: 0.0125, \t N_steps: 113176\n",
      "Loop took 23.569940328598022s\n",
      "{'r': 1.2e-08, 'L': 2e-05, 'alpha': 0.2, 'eta': 0.001, 'kbt': 4.16e-21, 'delta_u': 1.28e-17}\n",
      "gamma: 2.261946710584651e-10, \tomega: 141.47106052612915,\t D: 0.000325\n",
      "dt: 0.0125, \t N_steps: 113176\n",
      "Loop took 24.28009581565857s\n",
      "{'r': 1.2e-08, 'L': 2e-05, 'alpha': 0.2, 'eta': 0.001, 'kbt': 4.16e-21, 'delta_u': 1.28e-17}\n",
      "gamma: 2.261946710584651e-10, \tomega: 141.47106052612915,\t D: 0.000325\n",
      "dt: 0.0125, \t N_steps: 113176\n",
      "Loop took 23.712590217590332s\n",
      "{'r': 1.2e-08, 'L': 2e-05, 'alpha': 0.2, 'eta': 0.001, 'kbt': 4.16e-21, 'delta_u': 1.28e-17}\n",
      "gamma: 2.261946710584651e-10, \tomega: 141.47106052612915,\t D: 0.000325\n",
      "dt: 0.0125, \t N_steps: 113176\n",
      "Loop took 23.499248266220093s\n",
      "{'r': 1.2e-08, 'L': 2e-05, 'alpha': 0.2, 'eta': 0.001, 'kbt': 4.16e-21, 'delta_u': 1.28e-17}\n",
      "gamma: 2.261946710584651e-10, \tomega: 141.47106052612915,\t D: 0.000325\n",
      "dt: 0.0125, \t N_steps: 113176\n",
      "Loop took 23.694664001464844s\n",
      "{'r': 1.2e-08, 'L': 2e-05, 'alpha': 0.2, 'eta': 0.001, 'kbt': 4.16e-21, 'delta_u': 1.28e-17}\n",
      "gamma: 2.261946710584651e-10, \tomega: 141.47106052612915,\t D: 0.000325\n",
      "dt: 0.0125, \t N_steps: 113176\n",
      "Loop took 23.474196434020996s\n",
      "{'r': 1.2e-08, 'L': 2e-05, 'alpha': 0.2, 'eta': 0.001, 'kbt': 4.16e-21, 'delta_u': 1.28e-17}\n",
      "gamma: 2.261946710584651e-10, \tomega: 141.47106052612915,\t D: 0.000325\n",
      "dt: 0.0125, \t N_steps: 113176\n",
      "Loop took 23.341607809066772s\n",
      "{'r': 1.2e-08, 'L': 2e-05, 'alpha': 0.2, 'eta': 0.001, 'kbt': 4.16e-21, 'delta_u': 1.28e-17}\n",
      "gamma: 2.261946710584651e-10, \tomega: 141.47106052612915,\t D: 0.000325\n",
      "dt: 0.0125, \t N_steps: 113176\n",
      "Loop took 23.483200788497925s\n",
      "{'r': 1.2e-08, 'L': 2e-05, 'alpha': 0.2, 'eta': 0.001, 'kbt': 4.16e-21, 'delta_u': 1.28e-17}\n",
      "gamma: 2.261946710584651e-10, \tomega: 141.47106052612915,\t D: 0.000325\n",
      "dt: 0.0125, \t N_steps: 113176\n",
      "Loop took 23.33470630645752s\n",
      "{'r': 1.2e-08, 'L': 2e-05, 'alpha': 0.2, 'eta': 0.001, 'kbt': 4.16e-21, 'delta_u': 1.28e-17}\n",
      "gamma: 2.261946710584651e-10, \tomega: 141.47106052612915,\t D: 0.000325\n",
      "dt: 0.0125, \t N_steps: 113176\n",
      "Loop took 23.88709282875061s\n"
     ]
    }
   ],
   "source": [
    "avg_pos = []\n",
    "nc_list = []\n",
    "max_time = 10\n",
    "N = 4000\n",
    "for ta in tau:\n",
    "    a = time()\n",
    "    avg, nc = average_particle_simulation(particle_1, max_time, N, ta)\n",
    "    avg_pos.append(avg)\n",
    "    nc_list.append(nc)\n",
    "    b = time()-a\n",
    "    print(f\"Loop took {b}s\")"
   ]
  },
  {
   "cell_type": "code",
   "execution_count": null,
   "metadata": {},
   "outputs": [],
   "source": []
  }
 ],
 "metadata": {
  "kernelspec": {
   "display_name": "Python 3",
   "language": "python",
   "name": "python3"
  },
  "language_info": {
   "codemirror_mode": {
    "name": "ipython",
    "version": 3
   },
   "file_extension": ".py",
   "mimetype": "text/x-python",
   "name": "python",
   "nbconvert_exporter": "python",
   "pygments_lexer": "ipython3",
   "version": "3.7.6"
  }
 },
 "nbformat": 4,
 "nbformat_minor": 4
}
