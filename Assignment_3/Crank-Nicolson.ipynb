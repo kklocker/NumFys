{
 "cells": [
  {
   "cell_type": "markdown",
   "metadata": {},
   "source": [
    "# Crank-Nicolson\n",
    "--- "
   ]
  },
  {
   "cell_type": "code",
   "execution_count": 1,
   "metadata": {},
   "outputs": [],
   "source": [
    "%load_ext autoreload\n",
    "%autoreload 2\n",
    "\n",
    "import numpy as np\n",
    "import matplotlib.pyplot as plt\n",
    "import palettable as pl\n",
    "emr = pl.cartocolors.sequential.Emrld_7.get_mpl_colormap()\n",
    "\n",
    "from quantum_mechanics import WaveFunction\n",
    "from utils import box_potential"
   ]
  },
  {
   "cell_type": "code",
   "execution_count": 45,
   "metadata": {},
   "outputs": [],
   "source": [
    "N = 2000 # spatial discretization\n",
    "Nt = 2000 # temporal discretization\n",
    "n = np.arange(N) # for n-related stuff\n",
    "x = np.linspace(0,1, N) # the spatial axis\n",
    "t = np.linspace(0, 1500, Nt) # temporal axis\n",
    "dt = t[1]-t[0]\n",
    "potential_strength = 1e3\n",
    "V = box_potential(N, potential_strength)"
   ]
  },
  {
   "cell_type": "code",
   "execution_count": 46,
   "metadata": {},
   "outputs": [
    {
     "name": "stdout",
     "output_type": "stream",
     "text": [
      "Wall time: 1.01 ms\n",
      "Wall time: 983 µs\n",
      "Wall time: 2.9 s\n"
     ]
    }
   ],
   "source": [
    "%time wave = WaveFunction(N, V)\n",
    "%time wave.construct_hamiltonian()\n",
    "%time wave.solve_eigenvalues()"
   ]
  },
  {
   "cell_type": "code",
   "execution_count": 62,
   "metadata": {},
   "outputs": [
    {
     "name": "stdout",
     "output_type": "stream",
     "text": [
      "Initial state set. Normalization: (1.0000000000000002+0j)\n"
     ]
    }
   ],
   "source": [
    "x = np.linspace(0, 1, N)\n",
    "# psi0 = np.sqrt(2)*np.sin(np.pi*x)\n",
    "psi0 = (wave.v[:,0] + wave.v[:,1])/np.sqrt(2)\n",
    "wave.set_initial_state(psi0)"
   ]
  },
  {
   "cell_type": "code",
   "execution_count": 63,
   "metadata": {},
   "outputs": [
    {
     "name": "stdout",
     "output_type": "stream",
     "text": [
      "Lu done\n",
      "Wall time: 11.8 s\n"
     ]
    }
   ],
   "source": [
    "%time wave.crank_nicolson(N_temporal=Nt, dt=dt)"
   ]
  },
  {
   "cell_type": "code",
   "execution_count": 69,
   "metadata": {},
   "outputs": [
    {
     "name": "stdout",
     "output_type": "stream",
     "text": [
      "Wall time: 1.08 s\n"
     ]
    }
   ],
   "source": [
    "%time wave.construct_psi(np.sqrt(wave.N)*psi0, t)"
   ]
  },
  {
   "cell_type": "code",
   "execution_count": 89,
   "metadata": {},
   "outputs": [
    {
     "data": {
      "text/plain": [
       "Text(0, 0.5, '$|\\\\Psi|^2$')"
      ]
     },
     "execution_count": 89,
     "metadata": {},
     "output_type": "execute_result"
    },
    {
     "data": {
      "image/png": "[encoded data removed]",
      "text/plain": [
       "<Figure size 432x216 with 1 Axes>"
      ]
     },
     "metadata": {},
     "output_type": "display_data"
    }
   ],
   "source": [
    "# plt.plot(np.abs(wave.psi[-1])**2)\n",
    "plt.figure(figsize=(6, 3))\n",
    "plt.plot(x, np.abs(wave.psi0)**2, label=fr\"$\\bar\\Psi(t'=0)$\")\n",
    "plt.plot(x, np.abs(wave.psi_crank)**2, label = fr\"$\\bar\\Psi(t'={Nt*dt:.1f})$\")\n",
    "plt.legend()\n",
    "plt.xlabel(fr\"$x'$\", size=20)\n",
    "plt.ylabel(fr\"$|\\Psi|^2$\", size=20)"
   ]
  }
 ],
 "metadata": {
  "kernelspec": {
   "display_name": "Python 3",
   "language": "python",
   "name": "python3"
  },
  "language_info": {
   "codemirror_mode": {
    "name": "ipython",
    "version": 3
   },
   "file_extension": ".py",
   "mimetype": "text/x-python",
   "name": "python",
   "nbconvert_exporter": "python",
   "pygments_lexer": "ipython3",
   "version": "3.7.6"
  }
 },
 "nbformat": 4,
 "nbformat_minor": 4
}
