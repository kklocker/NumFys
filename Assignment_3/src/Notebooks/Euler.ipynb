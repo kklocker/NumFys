{
 "cells": [
  {
   "cell_type": "markdown",
   "metadata": {},
   "source": [
    "# Euler\n",
    "---"
   ]
  },
  {
   "cell_type": "code",
   "execution_count": 51,
   "metadata": {},
   "outputs": [
    {
     "name": "stdout",
     "output_type": "stream",
     "text": [
      "The autoreload extension is already loaded. To reload it, use:\n",
      "  %reload_ext autoreload\n"
     ]
    }
   ],
   "source": [
    "%load_ext autoreload\n",
    "%autoreload 2\n",
    "\n",
    "import numpy as np\n",
    "import matplotlib.pyplot as plt\n",
    "\n",
    "from quantum_mechanics import WaveFunction\n",
    "from utils import box_potential"
   ]
  },
  {
   "cell_type": "code",
   "execution_count": 267,
   "metadata": {},
   "outputs": [],
   "source": [
    "import palettable as pl\n",
    "emr = pl.cartocolors.sequential.Emrld_7.get_mpl_colormap()"
   ]
  },
  {
   "cell_type": "code",
   "execution_count": 52,
   "metadata": {},
   "outputs": [],
   "source": [
    "N = 2000 # spatial discretization\n",
    "Nt = 1000 # temporal discretization\n",
    "n = np.arange(N) # for n-related stuff\n",
    "x = np.linspace(0,1, N) # the spatial axis\n",
    "t = np.linspace(0, 1, Nt) # temporal axis\n",
    "\n",
    "potential_strength = 1e3\n",
    "V = box_potential(N, potential_strength)"
   ]
  },
  {
   "cell_type": "code",
   "execution_count": 53,
   "metadata": {},
   "outputs": [
    {
     "name": "stdout",
     "output_type": "stream",
     "text": [
      "Wall time: 1.15 ms\n",
      "Wall time: 1 ms\n",
      "Wall time: 2.91 s\n"
     ]
    }
   ],
   "source": [
    "%time wave = WaveFunction(N, V)\n",
    "%time wave.construct_hamiltonian()\n",
    "%time wave.solve_eigenvalues()"
   ]
  },
  {
   "cell_type": "markdown",
   "metadata": {},
   "source": [
    "Set the initial state as $\\psi_1$"
   ]
  },
  {
   "cell_type": "code",
   "execution_count": 54,
   "metadata": {},
   "outputs": [
    {
     "name": "stdout",
     "output_type": "stream",
     "text": [
      "Initial state set. Normalization: (1+0j)\n",
      "Wall time: 972 µs\n"
     ]
    }
   ],
   "source": [
    "%time wave.set_initial_state(wave.v[:,0])"
   ]
  },
  {
   "cell_type": "code",
   "execution_count": 155,
   "metadata": {},
   "outputs": [],
   "source": [
    "dt =0.001"
   ]
  },
  {
   "cell_type": "code",
   "execution_count": 23,
   "metadata": {},
   "outputs": [
    {
     "name": "stdout",
     "output_type": "stream",
     "text": [
      "Wall time: 31.9 ms\n"
     ]
    },
    {
     "data": {
      "text/plain": [
       "[<matplotlib.lines.Line2D at 0x1e101183d48>]"
      ]
     },
     "execution_count": 23,
     "metadata": {},
     "output_type": "execute_result"
    },
    {
     "data": {
      "image/png": "[encoded data removed]",
      "text/plain": [
       "<Figure size 432x288 with 1 Axes>"
      ]
     },
     "metadata": {},
     "output_type": "display_data"
    }
   ],
   "source": [
    "%time wave.euler(5, dt)\n",
    "plt.plot(x, np.abs(wave.psi0)**2)\n",
    "plt.plot(x, np.abs(wave.psi_euler)**2)"
   ]
  },
  {
   "cell_type": "code",
   "execution_count": 24,
   "metadata": {},
   "outputs": [],
   "source": [
    "from utils import inner_product"
   ]
  },
  {
   "cell_type": "code",
   "execution_count": 25,
   "metadata": {},
   "outputs": [
    {
     "data": {
      "text/plain": [
       "(1.000383076681544+0j)"
      ]
     },
     "execution_count": 25,
     "metadata": {},
     "output_type": "execute_result"
    }
   ],
   "source": [
    "inner_product(wave.psi_euler, wave.psi_euler)"
   ]
  },
  {
   "cell_type": "code",
   "execution_count": 219,
   "metadata": {},
   "outputs": [
    {
     "name": "stdout",
     "output_type": "stream",
     "text": [
      "Initial state set. Normalization: (0.9999999999999998+0j)\n",
      "Initial state set. Normalization: (0.9999999999999999+0j)\n",
      "Initial state set. Normalization: (0.9999999999999998+0j)\n",
      "Initial state set. Normalization: (1.0000000000000002+0j)\n",
      "Initial state set. Normalization: (0.9999999999999989+0j)\n",
      "Initial state set. Normalization: (0.9999999999999994+0j)\n",
      "Initial state set. Normalization: (1+0j)\n",
      "Initial state set. Normalization: (0.9999999999999996+0j)\n",
      "Initial state set. Normalization: (1.0000000000000002+0j)\n",
      "Initial state set. Normalization: (1.0000000000000004+0j)\n",
      "Initial state set. Normalization: (1.0000000000000004+0j)\n",
      "Initial state set. Normalization: (1.0000000000000004+0j)\n",
      "Initial state set. Normalization: (1.0000000000000004+0j)\n",
      "Initial state set. Normalization: (0.9999999999999999+0j)\n",
      "Initial state set. Normalization: (0.9999999999999994+0j)\n",
      "Initial state set. Normalization: (1+0j)\n",
      "Initial state set. Normalization: (1+0j)\n",
      "Initial state set. Normalization: (0.9999999999999998+0j)\n",
      "Initial state set. Normalization: (1.0000000000000004+0j)\n",
      "Initial state set. Normalization: (1.0000000000000002+0j)\n",
      "Initial state set. Normalization: (0.9999999999999999+0j)\n",
      "Initial state set. Normalization: (1.0000000000000002+0j)\n",
      "Initial state set. Normalization: (1+0j)\n",
      "Initial state set. Normalization: (1.0000000000000002+0j)\n",
      "Initial state set. Normalization: (1+0j)\n",
      "Initial state set. Normalization: (0.9999999999999999+0j)\n",
      "Initial state set. Normalization: (0.9999999999999991+0j)\n",
      "Initial state set. Normalization: (0.9999999999999993+0j)\n",
      "Initial state set. Normalization: (1.0000000000000004+0j)\n",
      "Initial state set. Normalization: (0.9999999999999999+0j)\n",
      "Initial state set. Normalization: (0.9999999999999994+0j)\n",
      "Initial state set. Normalization: (0.9999999999999991+0j)\n",
      "Initial state set. Normalization: (1.0000000000000002+0j)\n",
      "Initial state set. Normalization: (1.0000000000000004+0j)\n",
      "Initial state set. Normalization: (0.9999999999999996+0j)\n",
      "Initial state set. Normalization: (1.0000000000000004+0j)\n",
      "Initial state set. Normalization: (0.9999999999999996+0j)\n",
      "Initial state set. Normalization: (0.9999999999999998+0j)\n",
      "Initial state set. Normalization: (0.9999999999999997+0j)\n",
      "Initial state set. Normalization: (0.9999999999999999+0j)\n",
      "Initial state set. Normalization: (1.0000000000000004+0j)\n",
      "Initial state set. Normalization: (0.9999999999999996+0j)\n",
      "Initial state set. Normalization: (0.9999999999999998+0j)\n",
      "Initial state set. Normalization: (0.9999999999999997+0j)\n",
      "Initial state set. Normalization: (1.0000000000000002+0j)\n",
      "Initial state set. Normalization: (0.9999999999999997+0j)\n",
      "Initial state set. Normalization: (0.9999999999999997+0j)\n",
      "Initial state set. Normalization: (1+0j)\n",
      "Initial state set. Normalization: (0.9999999999999997+0j)\n",
      "Initial state set. Normalization: (0.9999999999999998+0j)\n",
      "Wall time: 6min 25s\n"
     ]
    }
   ],
   "source": [
    "%%time\n",
    "N_t = 50\n",
    "N_x = 50\n",
    "\n",
    "M_x = np.linspace(100, 3000, N_x, dtype=int) # discretization\n",
    "M_t = 10**np.linspace(-6, -1, N_t)\n",
    "steps_before_breakdown = np.zeros((N_x, N_t))\n",
    "for i,n in enumerate(M_x):\n",
    "    v_temp = box_potential(n, potential_strength)\n",
    "    wf = WaveFunction(n, v_temp)\n",
    "    wf.construct_hamiltonian()\n",
    "    wf.solve_eigenvalues()\n",
    "    wf.set_initial_state(wf.v[:,0])\n",
    "    for j, dt in enumerate(M_t):\n",
    "        count = 0\n",
    "        wf.reset_euler()\n",
    "        wf.euler(0,dt)\n",
    "        while inner_product(wf.psi_euler, wf.psi_euler) < 2:\n",
    "            count +=1\n",
    "            wf.euler(1, dt)\n",
    "        steps_before_breakdown[i,j] = count\n",
    "#         print(i,j, count)\n",
    "np.save(f\"steps_before_breakdown_{N_t}_{N_x}\", steps_before_breakdown)"
   ]
  },
  {
   "cell_type": "code",
   "execution_count": 260,
   "metadata": {},
   "outputs": [
    {
     "name": "stdout",
     "output_type": "stream",
     "text": [
      "Wall time: 4.91 ms\n"
     ]
    }
   ],
   "source": [
    "%%time\n",
    "ddx = 1/M_x\n",
    "cfl =[]\n",
    "cfl_n =[]\n",
    "for i in range(len(ddx)):\n",
    "    for j in range(len(M_t)):\n",
    "        if steps_before_breakdown[i,j] > 1:\n",
    "            cfl.append(M_t[j] / (ddx[i])**2)\n",
    "            cfl_n.append(steps_before_breakdown[i,j])"
   ]
  },
  {
   "cell_type": "code",
   "execution_count": 261,
   "metadata": {},
   "outputs": [],
   "source": [
    "A = [n for _,n in sorted(zip(cfl, cfl_n))]"
   ]
  },
  {
   "cell_type": "code",
   "execution_count": 262,
   "metadata": {},
   "outputs": [],
   "source": [
    "B = sorted(cfl)"
   ]
  },
  {
   "cell_type": "code",
   "execution_count": 283,
   "metadata": {},
   "outputs": [
    {
     "data": {
      "text/plain": [
       "Text(0.5, 0, \"$\\\\frac{\\\\Delta t'}{(\\\\Delta x')^2}$\")"
      ]
     },
     "execution_count": 283,
     "metadata": {},
     "output_type": "execute_result"
    },
    {
     "data": {
      "image/png": "[encoded data removed]",
      "text/plain": [
       "<Figure size 432x180 with 1 Axes>"
      ]
     },
     "metadata": {},
     "output_type": "display_data"
    }
   ],
   "source": [
    "plt.figure(figsize=(6, 2.5), constrained_layout=True)\n",
    "plt.loglog(B, A,'-')\n",
    "plt.ylabel(fr\"Steps\", size=20)\n",
    "plt.xlabel(fr\"$\\frac{{\\Delta t'}}{{(\\Delta x')^2}}$\", size=20)"
   ]
  },
  {
   "cell_type": "markdown",
   "metadata": {},
   "source": [
    "# Crank-Nicolson\n",
    "---"
   ]
  },
  {
   "cell_type": "code",
   "execution_count": null,
   "metadata": {},
   "outputs": [],
   "source": []
  }
 ],
 "metadata": {
  "kernelspec": {
   "display_name": "Python 3",
   "language": "python",
   "name": "python3"
  },
  "language_info": {
   "codemirror_mode": {
    "name": "ipython",
    "version": 3
   },
   "file_extension": ".py",
   "mimetype": "text/x-python",
   "name": "python",
   "nbconvert_exporter": "python",
   "pygments_lexer": "ipython3",
   "version": "3.7.6"
  }
 },
 "nbformat": 4,
 "nbformat_minor": 4
}
