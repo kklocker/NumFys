{
 "cells": [
  {
   "cell_type": "markdown",
   "metadata": {},
   "source": [
    "# Set up the matrix"
   ]
  },
  {
   "cell_type": "code",
   "execution_count": 1,
   "metadata": {},
   "outputs": [],
   "source": [
    "%load_ext autoreload\n",
    "%autoreload 2"
   ]
  },
  {
   "cell_type": "code",
   "execution_count": 2,
   "metadata": {},
   "outputs": [],
   "source": [
    "from walker import *\n",
    "from grid import *\n",
    "import matplotlib.pyplot as plt\n",
    "import scipy\n",
    "import scipy.sparse as sp\n",
    "import scipy.sparse.linalg as lg\n",
    "from numba import jit\n",
    "from shapely.geometry import Point\n",
    "from shapely.geometry.polygon import Polygon\n",
    "from dask import delayed, compute\n",
    "import matplotlib.path as mplpath"
   ]
  },
  {
   "cell_type": "code",
   "execution_count": 3,
   "metadata": {},
   "outputs": [
    {
     "name": "stdout",
     "output_type": "stream",
     "text": [
      "Wall time: 7.49 s\n"
     ]
    }
   ],
   "source": [
    "g = 4 # recursion depth\n",
    "pts = 2 # points between each corner of the fractal\n",
    "%time position_dict = koch_walker(depth=g, points_between=pts)\n",
    "save_grid(position_dict, g, pts)"
   ]
  },
  {
   "cell_type": "markdown",
   "metadata": {},
   "source": [
    "Load grid"
   ]
  },
  {
   "cell_type": "code",
   "execution_count": 4,
   "metadata": {},
   "outputs": [],
   "source": [
    "# position_dict = load_grid(g, pts).item()"
   ]
  },
  {
   "cell_type": "code",
   "execution_count": 5,
   "metadata": {},
   "outputs": [],
   "source": [
    "pos_list = np.array(list(position_dict))"
   ]
  },
  {
   "cell_type": "code",
   "execution_count": 6,
   "metadata": {},
   "outputs": [
    {
     "data": {
      "text/plain": [
       "1278"
      ]
     },
     "execution_count": 6,
     "metadata": {},
     "output_type": "execute_result"
    }
   ],
   "source": [
    "max_idx = normalize(pos_list)\n",
    "normalized_dict = \n",
    "max_idx"
   ]
  },
  {
   "cell_type": "code",
   "execution_count": 59,
   "metadata": {},
   "outputs": [
    {
     "name": "stdout",
     "output_type": "stream",
     "text": [
      "Wall time: 81.8 ms\n"
     ]
    }
   ],
   "source": [
    "%time ndict = {tuple(p):True for p in pos_list}"
   ]
  },
  {
   "cell_type": "markdown",
   "metadata": {},
   "source": [
    "solve eigenvalues"
   ]
  },
  {
   "cell_type": "markdown",
   "metadata": {},
   "source": [
    "## point inside?\n",
    "---\n",
    "### matplotlib.path"
   ]
  },
  {
   "cell_type": "code",
   "execution_count": 39,
   "metadata": {},
   "outputs": [],
   "source": [
    "path=mplpath.Path(pos_list)"
   ]
  },
  {
   "cell_type": "code",
   "execution_count": 40,
   "metadata": {},
   "outputs": [],
   "source": [
    "points = np.random.randint(0, high =max_idx, size = (10000,2))"
   ]
  },
  {
   "cell_type": "code",
   "execution_count": 41,
   "metadata": {},
   "outputs": [
    {
     "name": "stdout",
     "output_type": "stream",
     "text": [
      "Wall time: 3.07 s\n"
     ]
    },
    {
     "data": {
      "text/plain": [
       "array([False, False, False, ...,  True,  True, False])"
      ]
     },
     "execution_count": 41,
     "metadata": {},
     "output_type": "execute_result"
    }
   ],
   "source": [
    "%time path.contains_points(points)"
   ]
  },
  {
   "cell_type": "code",
   "execution_count": 42,
   "metadata": {},
   "outputs": [
    {
     "data": {
      "text/plain": [
       "array([[1142, 1222],\n",
       "       [1096, 1198],\n",
       "       [1220,  112],\n",
       "       ...,\n",
       "       [ 395,  574],\n",
       "       [1203,  736],\n",
       "       [ 514,  395]])"
      ]
     },
     "execution_count": 42,
     "metadata": {},
     "output_type": "execute_result"
    }
   ],
   "source": [
    "points"
   ]
  },
  {
   "cell_type": "markdown",
   "metadata": {},
   "source": [
    "### shapely"
   ]
  },
  {
   "cell_type": "code",
   "execution_count": 49,
   "metadata": {},
   "outputs": [
    {
     "name": "stdout",
     "output_type": "stream",
     "text": [
      "Wall time: 1.99 ms\n",
      "Wall time: 2.69 s\n"
     ]
    }
   ],
   "source": [
    "%time polygon = Polygon(pos_list)\n",
    "%time contains = [Point(point).within(polygon) for point in points[0:200]]\n",
    "\n",
    "#contains = [Polygon.contains(point) for point in testpoints]"
   ]
  },
  {
   "cell_type": "markdown",
   "metadata": {},
   "source": [
    "### Ray tracing"
   ]
  },
  {
   "cell_type": "code",
   "execution_count": 50,
   "metadata": {},
   "outputs": [],
   "source": [
    "def ray_tracing(point, pos_dict, max_idx):\n",
    "    if pos_dict.get(tuple(point), False):\n",
    "        return True\n",
    "    sign = 1\n",
    "    x0, y0 = point\n",
    "    if x0 < max_idx//2:\n",
    "        if y0 < x0:\n",
    "            sign = -1\n",
    "            idx = 1# direction: substract from y\n",
    "        else:\n",
    "            sign = -1\n",
    "            idx = 0\n",
    "            # direction substract from x\n",
    "    else:\n",
    "        if y0 > x0:\n",
    "            idx=1\n",
    "            # add to y\n",
    "        else:\n",
    "            idx = 0\n",
    "            # add to x\n",
    "    p = point\n",
    "    inside = False\n",
    "    \n",
    "    while p[idx] > 0 & p[idx] < max_idx:\n",
    "        temp = p[idx] + sign\n",
    "        p[idx] = temp\n",
    "        if pos_dict.get(tuple(p), default = False):\n",
    "            inside = not inside\n",
    "    return inside"
   ]
  },
  {
   "cell_type": "code",
   "execution_count": 74,
   "metadata": {},
   "outputs": [],
   "source": [
    "fast_ray_tracing = jit(ray_tracing) # hvorfor er den så treg?"
   ]
  },
  {
   "cell_type": "code",
   "execution_count": 68,
   "metadata": {},
   "outputs": [
    {
     "name": "stdout",
     "output_type": "stream",
     "text": [
      "Wall time: 20 ms\n"
     ]
    }
   ],
   "source": [
    "%time contains_ray = np.array([ray_tracing(point, ndict, max_idx) for point in pos_list[0:10000]])\n",
    "#%time [fast_ray_tracing(point, position_dict, max_idx) for point in pos_list[0:10]]"
   ]
  },
  {
   "cell_type": "code",
   "execution_count": 76,
   "metadata": {},
   "outputs": [
    {
     "name": "stdout",
     "output_type": "stream",
     "text": [
      "Wall time: 1.43 s\n"
     ]
    }
   ],
   "source": [
    "%time contains_ray = np.array([fast_ray_tracing(point, ndict, max_idx) for point in pos_list[0:10000]])"
   ]
  },
  {
   "cell_type": "code",
   "execution_count": 78,
   "metadata": {},
   "outputs": [
    {
     "name": "stdout",
     "output_type": "stream",
     "text": [
      "Wall time: 3min 3s\n"
     ]
    }
   ],
   "source": [
    "%%time\n",
    "res = []\n",
    "for point in pos_list[0:100]:\n",
    "    a = delayed(ray_tracing)(point, position_dict, max_idx)\n",
    "    res.append(a)\n",
    "results =compute(res)"
   ]
  },
  {
   "cell_type": "code",
   "execution_count": null,
   "metadata": {},
   "outputs": [],
   "source": [
    "res[0].visualize()"
   ]
  }
 ],
 "metadata": {
  "kernelspec": {
   "display_name": "Python 3",
   "language": "python",
   "name": "python3"
  },
  "language_info": {
   "codemirror_mode": {
    "name": "ipython",
    "version": 3
   },
   "file_extension": ".py",
   "mimetype": "text/x-python",
   "name": "python",
   "nbconvert_exporter": "python",
   "pygments_lexer": "ipython3",
   "version": "3.7.6"
  }
 },
 "nbformat": 4,
 "nbformat_minor": 4
}
