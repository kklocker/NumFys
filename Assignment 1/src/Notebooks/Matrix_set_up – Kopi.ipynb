{
 "cells": [
  {
   "cell_type": "markdown",
   "metadata": {},
   "source": [
    "# Setting up the matrix\n",
    "---"
   ]
  },
  {
   "cell_type": "code",
   "execution_count": 1,
   "metadata": {},
   "outputs": [],
   "source": [
    "from walker import *\n",
    "from grid import *\n",
    "import numpy as np\n",
    "import matplotlib.pyplot as plt\n",
    "import scipy\n",
    "import scipy.sparse as sp\n",
    "import scipy.sparse.linalg as lg\n",
    "from numba import jit\n",
    "from shapely.geometry import Point\n",
    "from shapely.geometry.polygon import Polygon\n",
    "from dask.distributed import Client\n",
    "from dask import delayed, compute\n",
    "import matplotlib.path as mplpath\n",
    "import time\n",
    "import os\n",
    "import sys\n",
    "import seaborn as sns\n",
    "import palettable as pl\n",
    "sns.set()"
   ]
  },
  {
   "cell_type": "code",
   "execution_count": 2,
   "metadata": {},
   "outputs": [],
   "source": [
    "client=Client()"
   ]
  },
  {
   "cell_type": "code",
   "execution_count": 3,
   "metadata": {},
   "outputs": [
    {
     "data": {
      "text/html": [
       "<table style=\"border: 2px solid white;\">\n",
       "<tr>\n",
       "<td style=\"vertical-align: top; border: 0px solid white\">\n",
       "<h3 style=\"text-align: left;\">Client</h3>\n",
       "<ul style=\"text-align: left; list-style: none; margin: 0; padding: 0;\">\n",
       "  <li><b>Scheduler: </b>tcp://127.0.0.1:50004</li>\n",
       "  <li><b>Dashboard: </b><a href='http://127.0.0.1:8787/status' target='_blank'>http://127.0.0.1:8787/status</a>\n",
       "</ul>\n",
       "</td>\n",
       "<td style=\"vertical-align: top; border: 0px solid white\">\n",
       "<h3 style=\"text-align: left;\">Cluster</h3>\n",
       "<ul style=\"text-align: left; list-style:none; margin: 0; padding: 0;\">\n",
       "  <li><b>Workers: </b>4</li>\n",
       "  <li><b>Cores: </b>4</li>\n",
       "  <li><b>Memory: </b>8.47 GB</li>\n",
       "</ul>\n",
       "</td>\n",
       "</tr>\n",
       "</table>"
      ],
      "text/plain": [
       "<Client: 'tcp://127.0.0.1:50004' processes=4 threads=4, memory=8.47 GB>"
      ]
     },
     "execution_count": 3,
     "metadata": {},
     "output_type": "execute_result"
    }
   ],
   "source": [
    "client"
   ]
  },
  {
   "cell_type": "markdown",
   "metadata": {},
   "source": [
    "## Some timings\n",
    "---"
   ]
  },
  {
   "cell_type": "code",
   "execution_count": 4,
   "metadata": {},
   "outputs": [],
   "source": [
    "# max_idx_dict = {}\n",
    "# timing = {}\n",
    "# s = time.time()\n",
    "# for g in range(1,6):\n",
    "#     for p in range(10):\n",
    "#         print(g, p, \"elapsed time:\\t\", time.time()-s)\n",
    "#         start = time.time()\n",
    "#         pdict = koch_walker(depth=g, points_between=p)\n",
    "#         end = time.time()- start\n",
    "#         save_grid(pdict, g, p)\n",
    "#         timing[tuple((g,p))] = end\n",
    "#         pl = np.array(list(pdict))\n",
    "#         midx = normalize(pl)\n",
    "#         max_idx_dict[tuple((g,p))] = midx"
   ]
  },
  {
   "cell_type": "code",
   "execution_count": 5,
   "metadata": {},
   "outputs": [],
   "source": [
    "# np.save(\"max_idx_dict\", max_idx_dictidx_dict)\n",
    "# np.save(\"timings_dict\", timing)"
   ]
  },
  {
   "cell_type": "code",
   "execution_count": 6,
   "metadata": {},
   "outputs": [],
   "source": [
    "# for k,v in max_idx_dict.items():    \n",
    "#     diag = np.ones(v**2)\n",
    "#     diag0 = -4*diag\n",
    "#     diagx = diag[:-1]\n",
    "#     diagy = diag[:-v]\n",
    "#     M = scipy.sparse.diags([diagy, diagx, diag0, diagx, diagy], [-v, -1, 0,1,v], format=\"csr\")\n",
    "#     st = time.time()\n",
    "#     e, v = scipy.sparse.linalg.eigs(M)\n",
    "#     en = time.time()-st\n",
    "#     np.save(f\"solution_time_g_p={k}\",[en])"
   ]
  },
  {
   "cell_type": "code",
   "execution_count": 7,
   "metadata": {},
   "outputs": [
    {
     "data": {
      "text/plain": [
       "{(1, 0): 0.005984783172607422,\n",
       " (1, 1): 0.006985187530517578,\n",
       " (1, 2): 0.009947061538696289,\n",
       " (1, 3): 0.017978191375732422,\n",
       " (1, 4): 0.02892327308654785,\n",
       " (1, 5): 0.03490638732910156,\n",
       " (1, 6): 0.0382533073425293,\n",
       " (1, 7): 0.04686403274536133,\n",
       " (1, 8): 0.07021594047546387,\n",
       " (1, 9): 0.07810688018798828,\n",
       " (2, 0): 0.031241893768310547,\n",
       " (2, 1): 0.06248617172241211,\n",
       " (2, 2): 0.21869802474975586,\n",
       " (2, 3): 0.4061555862426758,\n",
       " (2, 4): 0.6873390674591064,\n",
       " (2, 5): 1.316129207611084,\n",
       " (2, 6): 3.1398866176605225,\n",
       " (2, 7): 8.228384494781494,\n",
       " (2, 8): 17.11416506767273,\n",
       " (2, 9): 17.493241786956787,\n",
       " (3, 0): 0.5770490169525146,\n",
       " (3, 1): 9.216877937316895,\n",
       " (3, 2): 38.669018507003784,\n",
       " (3, 3): 245.51676487922668,\n",
       " (3, 4): 448.7304961681366,\n",
       " (3, 5): 885.4415857791901}"
      ]
     },
     "execution_count": 7,
     "metadata": {},
     "output_type": "execute_result"
    }
   ],
   "source": [
    "a = np.load(\"solution_times.npy\", allow_pickle=True).item()\n",
    "a # Solution times for eigenvalues"
   ]
  },
  {
   "cell_type": "code",
   "execution_count": 8,
   "metadata": {},
   "outputs": [
    {
     "data": {
      "text/plain": [
       "{(1, 0): 6,\n",
       " (1, 1): 12,\n",
       " (1, 2): 18,\n",
       " (1, 3): 24,\n",
       " (1, 4): 30,\n",
       " (1, 5): 36,\n",
       " (1, 6): 42,\n",
       " (1, 7): 48,\n",
       " (1, 8): 54,\n",
       " (1, 9): 60,\n",
       " (2, 0): 26,\n",
       " (2, 1): 52,\n",
       " (2, 2): 78,\n",
       " (2, 3): 104,\n",
       " (2, 4): 130,\n",
       " (2, 5): 156,\n",
       " (2, 6): 182,\n",
       " (2, 7): 208,\n",
       " (2, 8): 234,\n",
       " (2, 9): 260,\n",
       " (3, 0): 106,\n",
       " (3, 1): 212,\n",
       " (3, 2): 318,\n",
       " (3, 3): 424,\n",
       " (3, 4): 530,\n",
       " (3, 5): 636,\n",
       " (3, 6): 742,\n",
       " (3, 7): 848,\n",
       " (3, 8): 954,\n",
       " (3, 9): 1060,\n",
       " (4, 0): 426,\n",
       " (4, 1): 852,\n",
       " (4, 2): 1278,\n",
       " (4, 3): 1704,\n",
       " (4, 4): 2130,\n",
       " (4, 5): 2556,\n",
       " (4, 6): 2982,\n",
       " (4, 7): 3408,\n",
       " (4, 8): 3834,\n",
       " (4, 9): 4260,\n",
       " (5, 0): 1706,\n",
       " (5, 1): 3412,\n",
       " (5, 2): 5118,\n",
       " (5, 3): 6824,\n",
       " (5, 4): 8530,\n",
       " (5, 5): 10236,\n",
       " (5, 6): 11942,\n",
       " (5, 7): 13648,\n",
       " (5, 8): 15354,\n",
       " (5, 9): 17060}"
      ]
     },
     "execution_count": 8,
     "metadata": {},
     "output_type": "execute_result"
    }
   ],
   "source": [
    "midx_d = np.load(\"max_idx_dict.npy\", allow_pickle=True).item()\n",
    "midx_d # Max index"
   ]
  },
  {
   "cell_type": "markdown",
   "metadata": {},
   "source": [
    "---"
   ]
  },
  {
   "cell_type": "code",
   "execution_count": 23,
   "metadata": {},
   "outputs": [
    {
     "name": "stdout",
     "output_type": "stream",
     "text": [
      "Wall time: 0 ns\n"
     ]
    },
    {
     "data": {
      "text/plain": [
       "26"
      ]
     },
     "execution_count": 23,
     "metadata": {},
     "output_type": "execute_result"
    }
   ],
   "source": [
    "g = 2 # recursion depth\n",
    "pts = 0 # points between each corner of the fractal\n",
    "path = f\"boundary_grids/{g}_{pts}.npy\"\n",
    "if os.path.exists(path):\n",
    "    position_dict = np.load(path, allow_pickle=True).item()\n",
    "else:\n",
    "    %time position_dict = koch_walker(depth=g, points_between=pts)\n",
    "    save_grid(position_dict, g, pts)\n",
    "pos_list = np.array(list(position_dict))\n",
    "max_idx = normalize(pos_list)\n",
    "%time normalized_dict = {tuple(p):True for p in pos_list}\n",
    "max_idx"
   ]
  },
  {
   "cell_type": "code",
   "execution_count": 11,
   "metadata": {
    "collapsed": true,
    "jupyter": {
     "outputs_hidden": true
    }
   },
   "outputs": [
    {
     "data": {
      "text/plain": [
       "array([[ 1, 11],\n",
       "       [ 2, 11],\n",
       "       [ 2, 13],\n",
       "       [ 3, 11],\n",
       "       [ 3, 12],\n",
       "       [ 4, 10],\n",
       "       [ 4, 11],\n",
       "       [ 4, 12],\n",
       "       [ 5,  7],\n",
       "       [ 5, 10],\n",
       "       [ 5, 11],\n",
       "       [ 5, 12],\n",
       "       [ 5, 13],\n",
       "       [ 5, 19],\n",
       "       [ 6,  7],\n",
       "       [ 6,  9],\n",
       "       [ 6, 10],\n",
       "       [ 6, 11],\n",
       "       [ 6, 12],\n",
       "       [ 6, 13],\n",
       "       [ 6, 19],\n",
       "       [ 6, 21],\n",
       "       [ 7,  7],\n",
       "       [ 7,  8],\n",
       "       [ 7,  9],\n",
       "       [ 7, 10],\n",
       "       [ 7, 11],\n",
       "       [ 7, 12],\n",
       "       [ 7, 19],\n",
       "       [ 7, 20],\n",
       "       [ 8,  6],\n",
       "       [ 8,  8],\n",
       "       [ 8,  9],\n",
       "       [ 8, 10],\n",
       "       [ 8, 11],\n",
       "       [ 8, 12],\n",
       "       [ 8, 18],\n",
       "       [ 8, 19],\n",
       "       [ 8, 20],\n",
       "       [ 9,  8],\n",
       "       [ 9, 10],\n",
       "       [ 9, 11],\n",
       "       [ 9, 12],\n",
       "       [ 9, 13],\n",
       "       [ 9, 15],\n",
       "       [ 9, 18],\n",
       "       [ 9, 19],\n",
       "       [ 9, 20],\n",
       "       [ 9, 21],\n",
       "       [ 9, 23],\n",
       "       [10, 11],\n",
       "       [10, 12],\n",
       "       [10, 13],\n",
       "       [10, 14],\n",
       "       [10, 15],\n",
       "       [10, 17],\n",
       "       [10, 18],\n",
       "       [10, 19],\n",
       "       [10, 20],\n",
       "       [10, 21],\n",
       "       [10, 22],\n",
       "       [10, 23],\n",
       "       [10, 25],\n",
       "       [11, 11],\n",
       "       [11, 12],\n",
       "       [11, 13],\n",
       "       [11, 14],\n",
       "       [11, 15],\n",
       "       [11, 16],\n",
       "       [11, 17],\n",
       "       [11, 18],\n",
       "       [11, 19],\n",
       "       [11, 20],\n",
       "       [11, 21],\n",
       "       [11, 22],\n",
       "       [11, 23],\n",
       "       [11, 24],\n",
       "       [12, 10],\n",
       "       [12, 11],\n",
       "       [12, 12],\n",
       "       [12, 13],\n",
       "       [12, 14],\n",
       "       [12, 15],\n",
       "       [12, 16],\n",
       "       [12, 17],\n",
       "       [12, 18],\n",
       "       [12, 20],\n",
       "       [12, 21],\n",
       "       [12, 22],\n",
       "       [12, 24],\n",
       "       [13,  3],\n",
       "       [13,  7],\n",
       "       [13, 10],\n",
       "       [13, 11],\n",
       "       [13, 12],\n",
       "       [13, 13],\n",
       "       [13, 14],\n",
       "       [13, 15],\n",
       "       [13, 16],\n",
       "       [13, 17],\n",
       "       [13, 20],\n",
       "       [13, 24],\n",
       "       [14,  3],\n",
       "       [14,  5],\n",
       "       [14,  6],\n",
       "       [14,  7],\n",
       "       [14,  9],\n",
       "       [14, 10],\n",
       "       [14, 11],\n",
       "       [14, 12],\n",
       "       [14, 13],\n",
       "       [14, 14],\n",
       "       [14, 15],\n",
       "       [14, 16],\n",
       "       [14, 17],\n",
       "       [15,  3],\n",
       "       [15,  4],\n",
       "       [15,  5],\n",
       "       [15,  6],\n",
       "       [15,  7],\n",
       "       [15,  8],\n",
       "       [15,  9],\n",
       "       [15, 10],\n",
       "       [15, 11],\n",
       "       [15, 12],\n",
       "       [15, 13],\n",
       "       [15, 14],\n",
       "       [15, 15],\n",
       "       [15, 16],\n",
       "       [16,  2],\n",
       "       [16,  4],\n",
       "       [16,  5],\n",
       "       [16,  6],\n",
       "       [16,  7],\n",
       "       [16,  8],\n",
       "       [16,  9],\n",
       "       [16, 10],\n",
       "       [16, 12],\n",
       "       [16, 13],\n",
       "       [16, 14],\n",
       "       [16, 15],\n",
       "       [16, 16],\n",
       "       [17,  4],\n",
       "       [17,  6],\n",
       "       [17,  7],\n",
       "       [17,  8],\n",
       "       [17,  9],\n",
       "       [17, 12],\n",
       "       [17, 14],\n",
       "       [17, 15],\n",
       "       [17, 16],\n",
       "       [17, 17],\n",
       "       [17, 19],\n",
       "       [18,  7],\n",
       "       [18,  8],\n",
       "       [18,  9],\n",
       "       [18, 15],\n",
       "       [18, 16],\n",
       "       [18, 17],\n",
       "       [18, 18],\n",
       "       [18, 19],\n",
       "       [18, 21],\n",
       "       [19,  7],\n",
       "       [19,  8],\n",
       "       [19, 15],\n",
       "       [19, 16],\n",
       "       [19, 17],\n",
       "       [19, 18],\n",
       "       [19, 19],\n",
       "       [19, 20],\n",
       "       [20,  6],\n",
       "       [20,  8],\n",
       "       [20, 14],\n",
       "       [20, 15],\n",
       "       [20, 16],\n",
       "       [20, 17],\n",
       "       [20, 18],\n",
       "       [20, 20],\n",
       "       [21,  8],\n",
       "       [21, 14],\n",
       "       [21, 15],\n",
       "       [21, 16],\n",
       "       [21, 17],\n",
       "       [21, 20],\n",
       "       [22, 15],\n",
       "       [22, 16],\n",
       "       [22, 17],\n",
       "       [23, 15],\n",
       "       [23, 16],\n",
       "       [24, 14],\n",
       "       [24, 16],\n",
       "       [25, 16]])"
      ]
     },
     "execution_count": 11,
     "metadata": {},
     "output_type": "execute_result"
    }
   ],
   "source": []
  },
  {
   "cell_type": "code",
   "execution_count": 22,
   "metadata": {},
   "outputs": [
    {
     "data": {
      "text/plain": [
       "(2, 2)"
      ]
     },
     "execution_count": 22,
     "metadata": {},
     "output_type": "execute_result"
    },
    {
     "data": {
      "image/png": "[encoded data removed]",
      "text/plain": [
       "<Figure size 720x720 with 1 Axes>"
      ]
     },
     "metadata": {},
     "output_type": "display_data"
    }
   ],
   "source": [
    "%matplotlib inline\n",
    "#cmap = pl.scientific.diverging.Berlin_10.colors\n",
    "plt.style.use('Solarize_Light2')\n",
    "plt.figure(figsize=(10,10), frameon=False)\n",
    "plot_list = [*pos_list, pos_list[0]]\n",
    "plt.plot(*zip(*plot_list))\n",
    "plt.plot(*zip(*(np.array(all_points)[contains])), 'ko')\n",
    "plt.xticks([])\n",
    "plt.yticks([])\n",
    "g, pts"
   ]
  },
  {
   "cell_type": "code",
   "execution_count": null,
   "metadata": {},
   "outputs": [],
   "source": []
  },
  {
   "cell_type": "markdown",
   "metadata": {},
   "source": [
    "## Create matplotlib path"
   ]
  },
  {
   "cell_type": "code",
   "execution_count": 20,
   "metadata": {},
   "outputs": [],
   "source": [
    "path =mplpath.Path(pos_list)"
   ]
  },
  {
   "cell_type": "markdown",
   "metadata": {},
   "source": [
    "## test if we can daskify the path"
   ]
  },
  {
   "cell_type": "code",
   "execution_count": 21,
   "metadata": {},
   "outputs": [
    {
     "name": "stdout",
     "output_type": "stream",
     "text": [
      "Wall time: 1.37 s\n"
     ]
    }
   ],
   "source": [
    "%%time\n",
    "all_points = [(i,j) for i in range(max_idx) for j in range(max_idx)]\n",
    "cont = []\n",
    "for p in all_points:\n",
    "    contains = delayed(path.contains_point)(p)\n",
    "    cont.append(contains)\n",
    "contains = compute(cont)[0]"
   ]
  },
  {
   "cell_type": "markdown",
   "metadata": {},
   "source": [
    "----"
   ]
  },
  {
   "cell_type": "code",
   "execution_count": 14,
   "metadata": {},
   "outputs": [],
   "source": [
    "%load_ext autoreload\n",
    "%autoreload 2"
   ]
  },
  {
   "cell_type": "code",
   "execution_count": null,
   "metadata": {},
   "outputs": [],
   "source": [
    "from eqsolver import get_matrix, fix_matrix"
   ]
  },
  {
   "cell_type": "code",
   "execution_count": null,
   "metadata": {},
   "outputs": [],
   "source": [
    "g, pts, max_idx"
   ]
  },
  {
   "cell_type": "code",
   "execution_count": null,
   "metadata": {},
   "outputs": [],
   "source": [
    "# %time all_points = [(i,j) for i in range(max_idx) for j in range(max_idx)]\n",
    "# %time contains = np.array([path.contains_point(p) for p in all_points]).reshape((max_idx, max_idx))\n",
    "%time A = get_matrix(max_idx)\n"
   ]
  },
  {
   "cell_type": "code",
   "execution_count": null,
   "metadata": {},
   "outputs": [],
   "source": [
    "%time fix_matrix(A, max_idx, boundary_dict=normalized_dict, contains=contains)"
   ]
  },
  {
   "cell_type": "code",
   "execution_count": null,
   "metadata": {},
   "outputs": [],
   "source": [
    "emr = pl.cartocolors.sequential.Emrld_7.get_mpl_colormap()\n",
    "# all_points = [(i,j) for i in range(max_idx) for j in range(max_idx)]\n",
    "f = np.zeros((max_idx, max_idx))\n",
    "# c = np.array([path.contains_point(p) for p in all_points]).reshape((max_idx, max_idx))\n",
    "f[contains] += 1\n",
    "#lt.style.use(\"\")\n",
    "fig, ax = plt.subplots(figsize=(10,10), frameon=True)\n",
    "ax.matshow(f.T, cmap = emr)\n",
    "ax.plot(*zip(*plot_list), 'k', lw=3)\n",
    "ax.grid()\n",
    "ax.autoscale(False)\n",
    "# ax.set_xlim(0,max_idx)\n",
    "# ax.set_ylim(0,max_idx)\n",
    "fig.savefig(f\"classification_{g}_{pts}.png\")\n",
    "g,pts"
   ]
  },
  {
   "cell_type": "code",
   "execution_count": null,
   "metadata": {},
   "outputs": [],
   "source": [
    "k=100\n",
    "g, pts, k"
   ]
  },
  {
   "cell_type": "code",
   "execution_count": null,
   "metadata": {},
   "outputs": [],
   "source": [
    "pathstr = f\"solutions/solution_{g}_{pts}_{k}\""
   ]
  },
  {
   "cell_type": "code",
   "execution_count": null,
   "metadata": {},
   "outputs": [],
   "source": [
    "%time so = scipy.sparse.linalg.eigs(A, which=\"LM\", k=k)\n",
    "np.save(pathstr, so)"
   ]
  },
  {
   "cell_type": "code",
   "execution_count": null,
   "metadata": {},
   "outputs": [],
   "source": [
    "m = np.ma.array(v[:,0].reshape((max_idx, max_idx)), mask = np.invert(c))"
   ]
  },
  {
   "cell_type": "code",
   "execution_count": null,
   "metadata": {},
   "outputs": [],
   "source": [
    "plt.contourf(m.T)\n",
    "plt.plot(*zip(*plot_list))\n",
    "plt.colorbar()"
   ]
  },
  {
   "cell_type": "code",
   "execution_count": null,
   "metadata": {},
   "outputs": [],
   "source": [
    "# plt.contourf(v[:,0].reshape(shape) / e[0])\n",
    "plt.figure(figsize=(15, 15))\n",
    "plt.contourf(tmp[0].T, cmap=emr, levels=max_idx)\n",
    "plt.plot(*zip(*plot_list))\n",
    "plt.colorbar()"
   ]
  },
  {
   "cell_type": "code",
   "execution_count": null,
   "metadata": {},
   "outputs": [],
   "source": [
    "iN = 200\n",
    "diag = np.ones(N**2)\n",
    "diag0 = -4*diag\n",
    "diagx = diag[:-1]\n",
    "diagy = diag[:-N]\n",
    "M = scipy.spars/e.diags([diagy, diagx, diag0, diagx, diagy], [-N, -1, 0,1,N], format=\"csr\")\n",
    "e, v = scipy.sparse.linalg.eigs(M)\n",
    "plt.contourf(v[:,0].reshape((N, N))/ e[0])\n",
    "plt.colorbar()"
   ]
  },
  {
   "cell_type": "markdown",
   "metadata": {},
   "source": [
    "# Time difference in Scipy solver?\n",
    "---"
   ]
  },
  {
   "cell_type": "code",
   "execution_count": 1,
   "metadata": {},
   "outputs": [],
   "source": [
    "from grid import get_grid, normalize, convert_to_dict\n",
    "from classification import contains\n",
    "from eqsolver import get_matrix\n",
    "import os\n",
    "import numpy as np\n",
    "import scipy.sparse.linalg as spl\n",
    "import matplotlib.pyplot as plt"
   ]
  },
  {
   "cell_type": "code",
   "execution_count": 2,
   "metadata": {},
   "outputs": [
    {
     "name": "stdout",
     "output_type": "stream",
     "text": [
      "Wall time: 5.16 s\n"
     ]
    }
   ],
   "source": [
    "%%time\n",
    "k = 50\n",
    "g, pts = 3, 1\n",
    "pos_list = get_grid(g, pts)\n",
    "m_idx = normalize(pos_list)\n",
    "if m_idx <= k:\n",
    "    # print(m_idx, k)\n",
    "    k = m_idx - 2  # max eigenvalues. Limitation of LAPACK\n",
    "pos_dict = convert_to_dict(pos_list)\n",
    "c_path = f\"solutions/classifications/{g}_{pts}\"\n",
    "if os.path.exists(c_path + \".npy\"):\n",
    "    classification = np.load(c_path + \".npy\")\n",
    "else:\n",
    "    classification = contains(pos_dict, m_idx)\n",
    "    #np.save(c_path, classification)\n",
    "U = get_matrix(m_idx, pos_dict, classification)"
   ]
  },
  {
   "cell_type": "markdown",
   "metadata": {},
   "source": [
    "## Least imaginary part"
   ]
  },
  {
   "cell_type": "code",
   "execution_count": 5,
   "metadata": {},
   "outputs": [
    {
     "name": "stdout",
     "output_type": "stream",
     "text": [
      "Wall time: 4min 33s\n"
     ]
    }
   ],
   "source": [
    "%%time\n",
    "which = \"SI\"\n",
    "sol_si = spl.eigs(U,k=k,which=which)"
   ]
  },
  {
   "cell_type": "markdown",
   "metadata": {},
   "source": [
    "## Least magnitude"
   ]
  },
  {
   "cell_type": "code",
   "execution_count": 6,
   "metadata": {},
   "outputs": [
    {
     "name": "stdout",
     "output_type": "stream",
     "text": [
      "Wall time: 5min 55s\n"
     ]
    }
   ],
   "source": [
    "%%time\n",
    "which = \"SM\"\n",
    "sol_sm = spl.eigs(U,k=k,which=which)"
   ]
  },
  {
   "cell_type": "markdown",
   "metadata": {},
   "source": [
    "## Shift-Invert"
   ]
  },
  {
   "cell_type": "code",
   "execution_count": 20,
   "metadata": {
    "collapsed": true,
    "jupyter": {
     "outputs_hidden": true
    }
   },
   "outputs": [
    {
     "ename": "RuntimeError",
     "evalue": "Factor is exactly singular",
     "output_type": "error",
     "traceback": [
      "\u001b[1;31m---------------------------------------------------------------------------\u001b[0m",
      "\u001b[1;31mRuntimeError\u001b[0m                              Traceback (most recent call last)",
      "\u001b[1;32m<timed exec>\u001b[0m in \u001b[0;36m<module>\u001b[1;34m\u001b[0m\n",
      "\u001b[1;32m~\\Anaconda3\\envs\\numfys\\lib\\site-packages\\scipy\\sparse\\linalg\\eigen\\arpack\\arpack.py\u001b[0m in \u001b[0;36meigs\u001b[1;34m(A, k, M, sigma, which, v0, ncv, maxiter, tol, return_eigenvectors, Minv, OPinv, OPpart)\u001b[0m\n\u001b[0;32m   1330\u001b[0m         \u001b[1;32mif\u001b[0m \u001b[0mOPinv\u001b[0m \u001b[1;32mis\u001b[0m \u001b[1;32mNone\u001b[0m\u001b[1;33m:\u001b[0m\u001b[1;33m\u001b[0m\u001b[1;33m\u001b[0m\u001b[0m\n\u001b[0;32m   1331\u001b[0m             Minv_matvec = get_OPinv_matvec(A, M, sigma,\n\u001b[1;32m-> 1332\u001b[1;33m                                            hermitian=False, tol=tol)\n\u001b[0m\u001b[0;32m   1333\u001b[0m         \u001b[1;32melse\u001b[0m\u001b[1;33m:\u001b[0m\u001b[1;33m\u001b[0m\u001b[1;33m\u001b[0m\u001b[0m\n\u001b[0;32m   1334\u001b[0m             \u001b[0mOPinv\u001b[0m \u001b[1;33m=\u001b[0m \u001b[0m_aslinearoperator_with_dtype\u001b[0m\u001b[1;33m(\u001b[0m\u001b[0mOPinv\u001b[0m\u001b[1;33m)\u001b[0m\u001b[1;33m\u001b[0m\u001b[1;33m\u001b[0m\u001b[0m\n",
      "\u001b[1;32m~\\Anaconda3\\envs\\numfys\\lib\\site-packages\\scipy\\sparse\\linalg\\eigen\\arpack\\arpack.py\u001b[0m in \u001b[0;36mget_OPinv_matvec\u001b[1;34m(A, M, sigma, hermitian, tol)\u001b[0m\n\u001b[0;32m   1057\u001b[0m \u001b[1;32mdef\u001b[0m \u001b[0mget_OPinv_matvec\u001b[0m\u001b[1;33m(\u001b[0m\u001b[0mA\u001b[0m\u001b[1;33m,\u001b[0m \u001b[0mM\u001b[0m\u001b[1;33m,\u001b[0m \u001b[0msigma\u001b[0m\u001b[1;33m,\u001b[0m \u001b[0mhermitian\u001b[0m\u001b[1;33m=\u001b[0m\u001b[1;32mFalse\u001b[0m\u001b[1;33m,\u001b[0m \u001b[0mtol\u001b[0m\u001b[1;33m=\u001b[0m\u001b[1;36m0\u001b[0m\u001b[1;33m)\u001b[0m\u001b[1;33m:\u001b[0m\u001b[1;33m\u001b[0m\u001b[1;33m\u001b[0m\u001b[0m\n\u001b[0;32m   1058\u001b[0m     \u001b[1;32mif\u001b[0m \u001b[0msigma\u001b[0m \u001b[1;33m==\u001b[0m \u001b[1;36m0\u001b[0m\u001b[1;33m:\u001b[0m\u001b[1;33m\u001b[0m\u001b[1;33m\u001b[0m\u001b[0m\n\u001b[1;32m-> 1059\u001b[1;33m         \u001b[1;32mreturn\u001b[0m \u001b[0mget_inv_matvec\u001b[0m\u001b[1;33m(\u001b[0m\u001b[0mA\u001b[0m\u001b[1;33m,\u001b[0m \u001b[0mhermitian\u001b[0m\u001b[1;33m=\u001b[0m\u001b[0mhermitian\u001b[0m\u001b[1;33m,\u001b[0m \u001b[0mtol\u001b[0m\u001b[1;33m=\u001b[0m\u001b[0mtol\u001b[0m\u001b[1;33m)\u001b[0m\u001b[1;33m\u001b[0m\u001b[1;33m\u001b[0m\u001b[0m\n\u001b[0m\u001b[0;32m   1060\u001b[0m \u001b[1;33m\u001b[0m\u001b[0m\n\u001b[0;32m   1061\u001b[0m     \u001b[1;32mif\u001b[0m \u001b[0mM\u001b[0m \u001b[1;32mis\u001b[0m \u001b[1;32mNone\u001b[0m\u001b[1;33m:\u001b[0m\u001b[1;33m\u001b[0m\u001b[1;33m\u001b[0m\u001b[0m\n",
      "\u001b[1;32m~\\Anaconda3\\envs\\numfys\\lib\\site-packages\\scipy\\sparse\\linalg\\eigen\\arpack\\arpack.py\u001b[0m in \u001b[0;36mget_inv_matvec\u001b[1;34m(M, hermitian, tol)\u001b[0m\n\u001b[0;32m   1050\u001b[0m     \u001b[1;32melif\u001b[0m \u001b[0misspmatrix\u001b[0m\u001b[1;33m(\u001b[0m\u001b[0mM\u001b[0m\u001b[1;33m)\u001b[0m \u001b[1;32mor\u001b[0m \u001b[0mis_pydata_spmatrix\u001b[0m\u001b[1;33m(\u001b[0m\u001b[0mM\u001b[0m\u001b[1;33m)\u001b[0m\u001b[1;33m:\u001b[0m\u001b[1;33m\u001b[0m\u001b[1;33m\u001b[0m\u001b[0m\n\u001b[0;32m   1051\u001b[0m         \u001b[0mM\u001b[0m \u001b[1;33m=\u001b[0m \u001b[0m_fast_spmatrix_to_csc\u001b[0m\u001b[1;33m(\u001b[0m\u001b[0mM\u001b[0m\u001b[1;33m,\u001b[0m \u001b[0mhermitian\u001b[0m\u001b[1;33m=\u001b[0m\u001b[0mhermitian\u001b[0m\u001b[1;33m)\u001b[0m\u001b[1;33m\u001b[0m\u001b[1;33m\u001b[0m\u001b[0m\n\u001b[1;32m-> 1052\u001b[1;33m         \u001b[1;32mreturn\u001b[0m \u001b[0mSpLuInv\u001b[0m\u001b[1;33m(\u001b[0m\u001b[0mM\u001b[0m\u001b[1;33m)\u001b[0m\u001b[1;33m.\u001b[0m\u001b[0mmatvec\u001b[0m\u001b[1;33m\u001b[0m\u001b[1;33m\u001b[0m\u001b[0m\n\u001b[0m\u001b[0;32m   1053\u001b[0m     \u001b[1;32melse\u001b[0m\u001b[1;33m:\u001b[0m\u001b[1;33m\u001b[0m\u001b[1;33m\u001b[0m\u001b[0m\n\u001b[0;32m   1054\u001b[0m         \u001b[1;32mreturn\u001b[0m \u001b[0mIterInv\u001b[0m\u001b[1;33m(\u001b[0m\u001b[0mM\u001b[0m\u001b[1;33m,\u001b[0m \u001b[0mtol\u001b[0m\u001b[1;33m=\u001b[0m\u001b[0mtol\u001b[0m\u001b[1;33m)\u001b[0m\u001b[1;33m.\u001b[0m\u001b[0mmatvec\u001b[0m\u001b[1;33m\u001b[0m\u001b[1;33m\u001b[0m\u001b[0m\n",
      "\u001b[1;32m~\\Anaconda3\\envs\\numfys\\lib\\site-packages\\scipy\\sparse\\linalg\\eigen\\arpack\\arpack.py\u001b[0m in \u001b[0;36m__init__\u001b[1;34m(self, M)\u001b[0m\n\u001b[0;32m    912\u001b[0m     \"\"\"\n\u001b[0;32m    913\u001b[0m     \u001b[1;32mdef\u001b[0m \u001b[0m__init__\u001b[0m\u001b[1;33m(\u001b[0m\u001b[0mself\u001b[0m\u001b[1;33m,\u001b[0m \u001b[0mM\u001b[0m\u001b[1;33m)\u001b[0m\u001b[1;33m:\u001b[0m\u001b[1;33m\u001b[0m\u001b[1;33m\u001b[0m\u001b[0m\n\u001b[1;32m--> 914\u001b[1;33m         \u001b[0mself\u001b[0m\u001b[1;33m.\u001b[0m\u001b[0mM_lu\u001b[0m \u001b[1;33m=\u001b[0m \u001b[0msplu\u001b[0m\u001b[1;33m(\u001b[0m\u001b[0mM\u001b[0m\u001b[1;33m)\u001b[0m\u001b[1;33m\u001b[0m\u001b[1;33m\u001b[0m\u001b[0m\n\u001b[0m\u001b[0;32m    915\u001b[0m         \u001b[0mself\u001b[0m\u001b[1;33m.\u001b[0m\u001b[0mshape\u001b[0m \u001b[1;33m=\u001b[0m \u001b[0mM\u001b[0m\u001b[1;33m.\u001b[0m\u001b[0mshape\u001b[0m\u001b[1;33m\u001b[0m\u001b[1;33m\u001b[0m\u001b[0m\n\u001b[0;32m    916\u001b[0m         \u001b[0mself\u001b[0m\u001b[1;33m.\u001b[0m\u001b[0mdtype\u001b[0m \u001b[1;33m=\u001b[0m \u001b[0mM\u001b[0m\u001b[1;33m.\u001b[0m\u001b[0mdtype\u001b[0m\u001b[1;33m\u001b[0m\u001b[1;33m\u001b[0m\u001b[0m\n",
      "\u001b[1;32m~\\Anaconda3\\envs\\numfys\\lib\\site-packages\\scipy\\sparse\\linalg\\dsolve\\linsolve.py\u001b[0m in \u001b[0;36msplu\u001b[1;34m(A, permc_spec, diag_pivot_thresh, relax, panel_size, options)\u001b[0m\n\u001b[0;32m    324\u001b[0m     return _superlu.gstrf(N, A.nnz, A.data, A.indices, A.indptr,\n\u001b[0;32m    325\u001b[0m                           \u001b[0mcsc_construct_func\u001b[0m\u001b[1;33m=\u001b[0m\u001b[0mcsc_construct_func\u001b[0m\u001b[1;33m,\u001b[0m\u001b[1;33m\u001b[0m\u001b[1;33m\u001b[0m\u001b[0m\n\u001b[1;32m--> 326\u001b[1;33m                           ilu=False, options=_options)\n\u001b[0m\u001b[0;32m    327\u001b[0m \u001b[1;33m\u001b[0m\u001b[0m\n\u001b[0;32m    328\u001b[0m \u001b[1;33m\u001b[0m\u001b[0m\n",
      "\u001b[1;31mRuntimeError\u001b[0m: Factor is exactly singular"
     ]
    }
   ],
   "source": [
    "%%time\n",
    "which = \"LM\"\n",
    "sigma = 0\n",
    "sol_shift = spl.eigs(U.asformat(\"csc\"), k=k,which=which,sigma =sigma)"
   ]
  },
  {
   "cell_type": "code",
   "execution_count": 49,
   "metadata": {},
   "outputs": [
    {
     "data": {
      "text/plain": [
       "((-240.33014607394603+0j),\n",
       " (-240.33014607395285+0j),\n",
       " (2.8434333556510326e-25+0j))"
      ]
     },
     "execution_count": 49,
     "metadata": {},
     "output_type": "execute_result"
    }
   ],
   "source": [
    "sol_si[0][0], sol_sm[0][0], sol_shift[0][]"
   ]
  },
  {
   "cell_type": "code",
   "execution_count": 50,
   "metadata": {},
   "outputs": [
    {
     "data": {
      "image/png": "[encoded data removed]",
      "text/plain": [
       "<Figure size 720x720 with 3 Axes>"
      ]
     },
     "metadata": {
      "needs_background": "light"
     },
     "output_type": "display_data"
    }
   ],
   "source": [
    "fig, (ax1, ax2, ax3) = plt.subplots(ncols=3, nrows=1, sharex = True, sharey=True, figsize=(10,10))\n",
    "\n",
    "ax1.contourf(sol_si[1][:,0].reshape((m_idx,m_idx)))\n",
    "ax2.contourf(sol_sm[1][:,0].reshape((m_idx,m_idx)))\n",
    "ax3.contourf(sol_shift[1][:,0].reshape((m_idx,m_idx)))\n",
    "for ax in (ax1, ax2, ax3):\n",
    "    ax.set(aspect='equal')\n"
   ]
  }
 ],
 "metadata": {
  "kernelspec": {
   "display_name": "Python 3",
   "language": "python",
   "name": "python3"
  },
  "language_info": {
   "codemirror_mode": {
    "name": "ipython",
    "version": 3
   },
   "file_extension": ".py",
   "mimetype": "text/x-python",
   "name": "python",
   "nbconvert_exporter": "python",
   "pygments_lexer": "ipython3",
   "version": "3.7.6"
  }
 },
 "nbformat": 4,
 "nbformat_minor": 4
}
