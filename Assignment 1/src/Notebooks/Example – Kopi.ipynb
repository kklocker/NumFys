{
 "cells": [
  {
   "cell_type": "code",
   "execution_count": 2,
   "metadata": {},
   "outputs": [],
   "source": [
    "from eqsolver import get_matrix\n",
    "from grid import get_grid, normalize, convert_to_dict\n",
    "from classification import contains\n",
    "\n",
    "import os\n",
    "import numpy as np"
   ]
  },
  {
   "cell_type": "code",
   "execution_count": 15,
   "metadata": {},
   "outputs": [
    {
     "name": "stdout",
     "output_type": "stream",
     "text": [
      "Wall time: 57.7 ms\n",
      "Wall time: 1 ms\n",
      "Wall time: 109 ms\n",
      "Wall time: 7.98 ms\n",
      "Wall time: 1min 26s\n"
     ]
    }
   ],
   "source": [
    "g, p = 4, 3\n",
    "%time pl   = get_grid(g, p)\n",
    "%time m    = normalize(pl)\n",
    "%time pd   = convert_to_dict(pl)\n",
    "%time c    = np.load(f\"solutions/classifications/{g}_{p}.npy\")#contains(pd, m)\n",
    "%time U    = get_matrix(m, pd, c)"
   ]
  },
  {
   "cell_type": "code",
   "execution_count": 16,
   "metadata": {},
   "outputs": [],
   "source": [
    "import scipy.sparse.linalg as spl"
   ]
  },
  {
   "cell_type": "code",
   "execution_count": 17,
   "metadata": {},
   "outputs": [
    {
     "name": "stdout",
     "output_type": "stream",
     "text": [
      "Wall time: 1min 39s\n"
     ]
    }
   ],
   "source": [
    "%time e, v = spl.eigs(U, k=15, sigma = 240)"
   ]
  },
  {
   "cell_type": "code",
   "execution_count": 18,
   "metadata": {},
   "outputs": [],
   "source": [
    "np.save(f\"solutions/solution_{g}_{p}\", (e, v))"
   ]
  },
  {
   "cell_type": "code",
   "execution_count": null,
   "metadata": {},
   "outputs": [],
   "source": []
  }
 ],
 "metadata": {
  "kernelspec": {
   "display_name": "Python 3",
   "language": "python",
   "name": "python3"
  },
  "language_info": {
   "codemirror_mode": {
    "name": "ipython",
    "version": 3
   },
   "file_extension": ".py",
   "mimetype": "text/x-python",
   "name": "python",
   "nbconvert_exporter": "python",
   "pygments_lexer": "ipython3",
   "version": "3.7.6"
  }
 },
 "nbformat": 4,
 "nbformat_minor": 4
}
