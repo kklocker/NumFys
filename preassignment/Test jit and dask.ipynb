{
 "cells": [
  {
   "cell_type": "code",
   "execution_count": 1,
   "metadata": {},
   "outputs": [],
   "source": [
    "import numpy as np\n",
    "from numba import jit\n",
    "def yeet(*args, **kwargs):\n",
    "    return jit(*args, **kwargs)\n",
    "from tqdm import trange\n",
    "from dask.distributed import Client, LocalCluster\n",
    "import matplotlib.pyplot as plt"
   ]
  },
  {
   "cell_type": "code",
   "execution_count": 2,
   "metadata": {},
   "outputs": [],
   "source": [
    "def mcheck(steps, N):\n",
    "    prob = np.zeros(steps)\n",
    "    for i in range(N):\n",
    "        sig = 0\n",
    "        k=1\n",
    "        num = 0\n",
    "        while sig==0:\n",
    "            num+= np.random.uniform(-1, 1)\n",
    "            sig = np.sign(num)\n",
    "            k+=1\n",
    "        k=0\n",
    "        while k<steps:\n",
    "            num += np.random.uniform(-1, 1)\n",
    "            if np.sign(num) != sig:\n",
    "                prob[k] +=1\n",
    "                break\n",
    "            k+=1\n",
    "        \n",
    "    return prob\n",
    "fast_mcheck = yeet(mcheck)"
   ]
  },
  {
   "cell_type": "code",
   "execution_count": 3,
   "metadata": {},
   "outputs": [
    {
     "name": "stdout",
     "output_type": "stream",
     "text": [
      "Wall time: 42.9 ms\n"
     ]
    }
   ],
   "source": [
    "# Veldig lite eksempel\n",
    "%time prob =mcheck(100, 1000)"
   ]
  },
  {
   "cell_type": "code",
   "execution_count": 4,
   "metadata": {},
   "outputs": [],
   "source": [
    "steps = 10000\n",
    "N = 40000000"
   ]
  },
  {
   "cell_type": "code",
   "execution_count": 5,
   "metadata": {},
   "outputs": [
    {
     "name": "stdout",
     "output_type": "stream",
     "text": [
      "Wall time: 1min 23s\n"
     ]
    }
   ],
   "source": [
    "%time prob1 =fast_mcheck(steps, N)"
   ]
  },
  {
   "cell_type": "code",
   "execution_count": 6,
   "metadata": {},
   "outputs": [],
   "source": [
    "cluster = LocalCluster()\n",
    "client = Client(cluster)"
   ]
  },
  {
   "cell_type": "code",
   "execution_count": 7,
   "metadata": {},
   "outputs": [
    {
     "name": "stdout",
     "output_type": "stream",
     "text": [
      "Wall time: 1min 24s\n"
     ]
    }
   ],
   "source": [
    "%%time \n",
    "future = client.submit(fast_mcheck,steps,N, pure=False)\n",
    "prob2 = client.gather(future)"
   ]
  },
  {
   "cell_type": "code",
   "execution_count": 8,
   "metadata": {},
   "outputs": [
    {
     "name": "stdout",
     "output_type": "stream",
     "text": [
      "Wall time: 763 ms\n"
     ]
    }
   ],
   "source": [
    "%%time\n",
    "# Go up an order 10 on both steps and N:\n",
    "steps2 = 10*steps\n",
    "N2 = 10*steps\n",
    "\n",
    "future2 = client.submit(fast_mcheck, steps2, N2, pure=False)\n",
    "prob3 = future2.result()"
   ]
  },
  {
   "cell_type": "code",
   "execution_count": 9,
   "metadata": {},
   "outputs": [
    {
     "data": {
      "image/png": "[encoded data removed]",
      "text/plain": [
       "<Figure size 432x288 with 1 Axes>"
      ]
     },
     "metadata": {
      "needs_background": "light"
     },
     "output_type": "display_data"
    }
   ],
   "source": [
    "plt.loglog(prob1 / np.linalg.norm(prob1), label = '@jit')\n",
    "plt.loglog(prob2/ np.linalg.norm(prob1), label ='@jit and dask')\n",
    "plt.loglog(prob3/np.linalg.norm(prob3), label = '@jit, dask, x10')\n",
    "plt.legend()\n",
    "plt.show()"
   ]
  }
 ],
 "metadata": {
  "kernelspec": {
   "display_name": "Python 3",
   "language": "python",
   "name": "python3"
  },
  "language_info": {
   "codemirror_mode": {
    "name": "ipython",
    "version": 3
   },
   "file_extension": ".py",
   "mimetype": "text/x-python",
   "name": "python",
   "nbconvert_exporter": "python",
   "pygments_lexer": "ipython3",
   "version": "3.7.4"
  }
 },
 "nbformat": 4,
 "nbformat_minor": 2
}
