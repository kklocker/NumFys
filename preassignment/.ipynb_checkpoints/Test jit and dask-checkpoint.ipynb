{
 "cells": [
  {
   "cell_type": "code",
   "execution_count": 1,
   "metadata": {},
   "outputs": [],
   "source": [
    "import numpy as np\n",
    "from numba import jit\n",
    "def yeet(*args, **kwargs):\n",
    "    return jit(*args, **kwargs)\n",
    "from tqdm import trange\n",
    "from dask.distributed import Client, LocalCluster"
   ]
  },
  {
   "cell_type": "code",
   "execution_count": 24,
   "metadata": {},
   "outputs": [],
   "source": []
  },
  {
   "cell_type": "code",
   "execution_count": 25,
   "metadata": {},
   "outputs": [],
   "source": [
    "@yeet\n",
    "def g(x):\n",
    "    return x+1"
   ]
  },
  {
   "cell_type": "code",
   "execution_count": null,
   "metadata": {},
   "outputs": [],
   "source": []
  },
  {
   "cell_type": "code",
   "execution_count": 2,
   "metadata": {},
   "outputs": [],
   "source": [
    "def mcheck(steps, N):\n",
    "    prob = np.zeros(steps)\n",
    "    for i in range(N):\n",
    "        sig = 0\n",
    "        k=1\n",
    "        num = 0\n",
    "        while sig==0:\n",
    "            num+= np.random.uniform(-1, 1)\n",
    "            sig = np.sign(num)\n",
    "            k+=1\n",
    "        k=0\n",
    "        while k<steps:\n",
    "            num += np.random.uniform(-1, 1)\n",
    "            if np.sign(num) != sig:\n",
    "                prob[k] +=1\n",
    "                break\n",
    "            k+=1\n",
    "        \n",
    "    return prob\n",
    "fast_mcheck = jit(mcheck)"
   ]
  },
  {
   "cell_type": "code",
   "execution_count": 10,
   "metadata": {},
   "outputs": [],
   "source": [
    "steps = 10000\n",
    "N = 4000000"
   ]
  },
  {
   "cell_type": "code",
   "execution_count": 16,
   "metadata": {},
   "outputs": [
    {
     "name": "stdout",
     "output_type": "stream",
     "text": [
      "Wall time: 177 ms\n"
     ]
    }
   ],
   "source": [
    "%time prob =mcheck(100, 1000)"
   ]
  },
  {
   "cell_type": "code",
   "execution_count": 15,
   "metadata": {},
   "outputs": [
    {
     "name": "stdout",
     "output_type": "stream",
     "text": [
      "Wall time: 18.6 s\n"
     ]
    }
   ],
   "source": [
    "%time prob1 =fast_mcheck(steps, N)"
   ]
  },
  {
   "cell_type": "code",
   "execution_count": 12,
   "metadata": {},
   "outputs": [
    {
     "name": "stderr",
     "output_type": "stream",
     "text": [
      "C:\\Users\\KarlKristian\\Anaconda3\\envs\\numfys\\lib\\site-packages\\distributed\\dashboard\\core.py:72: UserWarning: \n",
      "Failed to start diagnostics server on port 8787. [WinError 10048] Bare ett bruk av hver enkelt kontaktadresse (protokoll/nettverk adresse/port) er vanligvis tillatt\n",
      "  warnings.warn(\"\\n\" + msg)\n"
     ]
    }
   ],
   "source": [
    "cluster = LocalCluster()\n",
    "client = Client(cluster)"
   ]
  },
  {
   "cell_type": "code",
   "execution_count": 13,
   "metadata": {},
   "outputs": [
    {
     "name": "stdout",
     "output_type": "stream",
     "text": [
      "Wall time: 4.04 ms\n"
     ]
    }
   ],
   "source": [
    "%time future = client.submit(fast_mcheck,steps,N, pure=False)"
   ]
  },
  {
   "cell_type": "code",
   "execution_count": 14,
   "metadata": {},
   "outputs": [
    {
     "data": {
      "text/plain": [
       "array([1.000117e+06, 5.000230e+05, 3.130280e+05, ..., 1.000000e+00,\n",
       "       0.000000e+00, 5.000000e+00])"
      ]
     },
     "execution_count": 14,
     "metadata": {},
     "output_type": "execute_result"
    }
   ],
   "source": [
    "prob2 = client.gather(future)"
   ]
  }
 ],
 "metadata": {
  "kernelspec": {
   "display_name": "Python 3",
   "language": "python",
   "name": "python3"
  },
  "language_info": {
   "codemirror_mode": {
    "name": "ipython",
    "version": 3
   },
   "file_extension": ".py",
   "mimetype": "text/x-python",
   "name": "python",
   "nbconvert_exporter": "python",
   "pygments_lexer": "ipython3",
   "version": "3.7.5"
  }
 },
 "nbformat": 4,
 "nbformat_minor": 2
}
