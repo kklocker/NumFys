{
 "cells": [
  {
   "cell_type": "markdown",
   "metadata": {},
   "source": [
    "\n",
    "# Tau"
   ]
  },
  {
   "cell_type": "code",
   "execution_count": null,
   "metadata": {},
   "outputs": [],
   "source": [
    "%load_ext autoreload\n",
    "%autoreload 2"
   ]
  },
  {
   "cell_type": "code",
   "execution_count": 2,
   "metadata": {},
   "outputs": [],
   "source": [
    "import numpy as np\n",
    "# np.random.seed()\n",
    "import matplotlib.pyplot as plt\n",
    "from mon_jasnow import get_tau"
   ]
  },
  {
   "cell_type": "code",
   "execution_count": 17,
   "metadata": {},
   "outputs": [],
   "source": [
    "Ny = 20\n",
    "N_sweeps = 20000\n",
    "Tc = 2 / np.log(1 + np.sqrt(2))\n",
    "N_steps = 30\n",
    "T = np.linspace(0.1*Tc, 1.2*Tc, N_steps)\n",
    "Nruns = 1\n",
    "skips =3"
   ]
  },
  {
   "cell_type": "code",
   "execution_count": 4,
   "metadata": {},
   "outputs": [
    {
     "name": "stdout",
     "output_type": "stream",
     "text": [
      "Wall time: 4.68 s\n"
     ]
    }
   ],
   "source": [
    "%time _ = get_tau(30, 1, np.array([0.1]), 1, 1)"
   ]
  },
  {
   "cell_type": "code",
   "execution_count": 18,
   "metadata": {
    "scrolled": true
   },
   "outputs": [
    {
     "name": "stdout",
     "output_type": "stream",
     "text": [
      "Wall time: 55.4 s\n"
     ]
    }
   ],
   "source": [
    "%time tau = get_tau(Ny, N_sweeps, T, N_runs=Nruns, skips=skips)"
   ]
  },
  {
   "cell_type": "code",
   "execution_count": 19,
   "metadata": {},
   "outputs": [
    {
     "data": {
      "image/png": "[encoded data removed]",
      "text/plain": [
       "<Figure size 576x360 with 1 Axes>"
      ]
     },
     "metadata": {
      "needs_background": "light"
     },
     "output_type": "display_data"
    }
   ],
   "source": [
    "plt.figure(figsize=(8,5), tight_layout=True)\n",
    "plt.scatter(T/(Tc), tau)\n",
    "# plt.xlim(0,1.1)\n",
    "# plt.ylim(0,2.2)\n",
    "plt.xlabel(fr\"$T\\ /\\ T_C$\", size=20)\n",
    "plt.title(f\"$N_y$ = {Ny}\", size=20)\n",
    "plt.ylabel(fr\"$\\tau$\", size = 20)\n",
    "plt.grid()\n",
    "plt.xticks(size=15)\n",
    "plt.yticks(size=15)\n",
    "# \n",
    "plt.savefig(f\"../img/Ny{Ny}_Sweeps{N_sweeps}_Nruns{Nruns}_Skips{skips}_Nsteps{N_steps}.png\")"
   ]
  },
  {
   "cell_type": "code",
   "execution_count": 7,
   "metadata": {},
   "outputs": [
    {
     "name": "stdout",
     "output_type": "stream",
     "text": [
      "Wall time: 219 ms\n"
     ]
    },
    {
     "data": {
      "text/plain": [
       "array([2.])"
      ]
     },
     "execution_count": 7,
     "metadata": {},
     "output_type": "execute_result"
    }
   ],
   "source": [
    "%time test_tau = get_tau(Ny, N_sweeps, np.array([T[3]]), N_runs=1, skips=300)\n",
    "test_tau"
   ]
  },
  {
   "cell_type": "markdown",
   "metadata": {},
   "source": [
    "# Debug\n"
   ]
  },
  {
   "cell_type": "code",
   "execution_count": 3,
   "metadata": {},
   "outputs": [],
   "source": [
    "from lattice_utils import get_lattice_pp, energy_diff\n",
    "from mon_jasnow import metropolis_subroutine"
   ]
  },
  {
   "cell_type": "code",
   "execution_count": 9,
   "metadata": {},
   "outputs": [],
   "source": [
    "\n",
    "def metropolis_mj_2_debug(N_size, N_sweeps, T, skips=50, N_runs=10):\n",
    "    \"\"\"\n",
    "    Metropolis algorithm for computing expectation values of energy difference.\n",
    "    \"\"\"\n",
    "\n",
    "    ev = []  # List for storing expectation value\n",
    "    for run in range(N_runs):\n",
    "        lattice_pp = get_lattice_pp(N_size, aligned=True)  # Create ++ -lattice\n",
    "        prev = 0  # keeps track of last sampled state\n",
    "        for i in range(N_sweeps):  # Do N_sweep sweeps\n",
    "            metropolis_subroutine(lattice_pp, T, J=1.0)  # Tries to flip N^2 spins\n",
    "            if (i > skips) and (\n",
    "                i >= (prev + skips)\n",
    "            ):  # Initial sweeps, and skip sweep between each sample\n",
    "                prev = i\n",
    "                E_diff = energy_diff(lattice_pp)\n",
    "\n",
    "                k = np.exp(-E_diff / T)\n",
    "                # if E_diff < 0 and T < (2 / np.log(1 + np.sqrt(2))):\n",
    "                # pass\n",
    "                if (k == 0.0) or k == np.inf:\n",
    "                    pass\n",
    "                else:\n",
    "                    ev.append(k)  # Add exp(-(E_{+-} - E_{++})/T) to a list\n",
    "    if len(ev) == 0:\n",
    "        ev.append(1)\n",
    "    ev = np.array(ev)\n",
    "    return ev.mean(), ev.std() / np.sqrt(N_runs)  # Return the mean and std\n",
    "\n",
    "\n",
    "\n",
    "def get_tau_debug(N_size, N_sweeps, T, N_runs=10, skips=10):\n",
    "    \"\"\"Returns list of computed tau-values\n",
    "    \n",
    "    Arguments:\n",
    "        N_size {int} -- Size of lattice\n",
    "        N_sweeps {int} -- Number of sweeps\n",
    "        T {array} -- T-values\n",
    "    \"\"\"\n",
    "    tau = np.zeros_like(T)\n",
    "    for i in range(tau.shape[0]):\n",
    "        mean, _ = metropolis_mj_2_debug(N_size, N_sweeps, T[i], skips=skips, N_runs=N_runs)\n",
    "        tau[i] = -np.log(mean) * T[i] / N_size\n",
    "    return tau\n"
   ]
  },
  {
   "cell_type": "code",
   "execution_count": null,
   "metadata": {
    "collapsed": true,
    "jupyter": {
     "outputs_hidden": true
    }
   },
   "outputs": [
    {
     "name": "stdout",
     "output_type": "stream",
     "text": [
      "Wall time: 6.6 s\n"
     ]
    },
    {
     "ename": "KeyboardInterrupt",
     "evalue": "",
     "output_type": "error",
     "traceback": [
      "\u001b[1;31m---------------------------------------------------------------------------\u001b[0m",
      "\u001b[1;31mKeyboardInterrupt\u001b[0m                         Traceback (most recent call last)",
      "\u001b[1;32m<timed eval>\u001b[0m in \u001b[0;36m<module>\u001b[1;34m\u001b[0m\n",
      "\u001b[1;32m<ipython-input-9-746034a54fcf>\u001b[0m in \u001b[0;36mget_tau_debug\u001b[1;34m(N_size, N_sweeps, T, N_runs, skips)\u001b[0m\n\u001b[0;32m     40\u001b[0m     \u001b[0mtau\u001b[0m \u001b[1;33m=\u001b[0m \u001b[0mnp\u001b[0m\u001b[1;33m.\u001b[0m\u001b[0mzeros_like\u001b[0m\u001b[1;33m(\u001b[0m\u001b[0mT\u001b[0m\u001b[1;33m)\u001b[0m\u001b[1;33m\u001b[0m\u001b[1;33m\u001b[0m\u001b[0m\n\u001b[0;32m     41\u001b[0m     \u001b[1;32mfor\u001b[0m \u001b[0mi\u001b[0m \u001b[1;32min\u001b[0m \u001b[0mrange\u001b[0m\u001b[1;33m(\u001b[0m\u001b[0mtau\u001b[0m\u001b[1;33m.\u001b[0m\u001b[0mshape\u001b[0m\u001b[1;33m[\u001b[0m\u001b[1;36m0\u001b[0m\u001b[1;33m]\u001b[0m\u001b[1;33m)\u001b[0m\u001b[1;33m:\u001b[0m\u001b[1;33m\u001b[0m\u001b[1;33m\u001b[0m\u001b[0m\n\u001b[1;32m---> 42\u001b[1;33m         \u001b[0mmean\u001b[0m\u001b[1;33m,\u001b[0m \u001b[0m_\u001b[0m \u001b[1;33m=\u001b[0m \u001b[0mmetropolis_mj_2_debug\u001b[0m\u001b[1;33m(\u001b[0m\u001b[0mN_size\u001b[0m\u001b[1;33m,\u001b[0m \u001b[0mN_sweeps\u001b[0m\u001b[1;33m,\u001b[0m \u001b[0mT\u001b[0m\u001b[1;33m[\u001b[0m\u001b[0mi\u001b[0m\u001b[1;33m]\u001b[0m\u001b[1;33m,\u001b[0m \u001b[0mskips\u001b[0m\u001b[1;33m=\u001b[0m\u001b[0mskips\u001b[0m\u001b[1;33m,\u001b[0m \u001b[0mN_runs\u001b[0m\u001b[1;33m=\u001b[0m\u001b[0mN_runs\u001b[0m\u001b[1;33m)\u001b[0m\u001b[1;33m\u001b[0m\u001b[1;33m\u001b[0m\u001b[0m\n\u001b[0m\u001b[0;32m     43\u001b[0m         \u001b[0mtau\u001b[0m\u001b[1;33m[\u001b[0m\u001b[0mi\u001b[0m\u001b[1;33m]\u001b[0m \u001b[1;33m=\u001b[0m \u001b[1;33m-\u001b[0m\u001b[0mnp\u001b[0m\u001b[1;33m.\u001b[0m\u001b[0mlog\u001b[0m\u001b[1;33m(\u001b[0m\u001b[0mmean\u001b[0m\u001b[1;33m)\u001b[0m \u001b[1;33m*\u001b[0m \u001b[0mT\u001b[0m\u001b[1;33m[\u001b[0m\u001b[0mi\u001b[0m\u001b[1;33m]\u001b[0m \u001b[1;33m/\u001b[0m \u001b[0mN_size\u001b[0m\u001b[1;33m\u001b[0m\u001b[1;33m\u001b[0m\u001b[0m\n\u001b[0;32m     44\u001b[0m     \u001b[1;32mreturn\u001b[0m \u001b[0mtau\u001b[0m\u001b[1;33m\u001b[0m\u001b[1;33m\u001b[0m\u001b[0m\n",
      "\u001b[1;32m<ipython-input-9-746034a54fcf>\u001b[0m in \u001b[0;36mmetropolis_mj_2_debug\u001b[1;34m(N_size, N_sweeps, T, skips, N_runs)\u001b[0m\n\u001b[0;32m     11\u001b[0m             \u001b[0mmetropolis_subroutine\u001b[0m\u001b[1;33m(\u001b[0m\u001b[0mlattice_pp\u001b[0m\u001b[1;33m,\u001b[0m \u001b[0mT\u001b[0m\u001b[1;33m,\u001b[0m \u001b[0mJ\u001b[0m\u001b[1;33m=\u001b[0m\u001b[1;36m1.0\u001b[0m\u001b[1;33m)\u001b[0m  \u001b[1;31m# Tries to flip N^2 spins\u001b[0m\u001b[1;33m\u001b[0m\u001b[1;33m\u001b[0m\u001b[0m\n\u001b[0;32m     12\u001b[0m             if (i > skips) and (\n\u001b[1;32m---> 13\u001b[1;33m                 \u001b[0mi\u001b[0m \u001b[1;33m>=\u001b[0m \u001b[1;33m(\u001b[0m\u001b[0mprev\u001b[0m \u001b[1;33m+\u001b[0m \u001b[0mskips\u001b[0m\u001b[1;33m)\u001b[0m\u001b[1;33m\u001b[0m\u001b[1;33m\u001b[0m\u001b[0m\n\u001b[0m\u001b[0;32m     14\u001b[0m             ):  # Initial sweeps, and skip sweep between each sample\n\u001b[0;32m     15\u001b[0m                 \u001b[0mprev\u001b[0m \u001b[1;33m=\u001b[0m \u001b[0mi\u001b[0m\u001b[1;33m\u001b[0m\u001b[1;33m\u001b[0m\u001b[0m\n",
      "\u001b[1;31mKeyboardInterrupt\u001b[0m: "
     ]
    },
    {
     "name": "stdout",
     "output_type": "stream",
     "text": [
      "Wall time: 4.67 s\n",
      "Wall time: 5.52 s\n",
      "Wall time: 4.63 s\n",
      "Wall time: 4.42 s\n",
      "Wall time: 4.46 s\n",
      "Wall time: 4.85 s\n",
      "Wall time: 4.53 s\n",
      "Wall time: 4.97 s\n",
      "Wall time: 4.84 s\n",
      "Wall time: 5.48 s\n"
     ]
    }
   ],
   "source": [
    "tau_debug = []\n",
    "for t in T:\n",
    "    %time tau_debug.append(get_tau_debug(100, N_sweeps, np.array([t]), N_runs = 1, skips=50))"
   ]
  },
  {
   "cell_type": "code",
   "execution_count": 8,
   "metadata": {},
   "outputs": [
    {
     "data": {
      "image/png": "[encoded data removed]",
      "text/plain": [
       "<Figure size 432x288 with 1 Axes>"
      ]
     },
     "metadata": {
      "needs_background": "light"
     },
     "output_type": "display_data"
    }
   ],
   "source": [
    "plt.scatter(T/Tc, tau_debug)\n",
    "plt.grid()"
   ]
  },
  {
   "cell_type": "code",
   "execution_count": 10,
   "metadata": {},
   "outputs": [
    {
     "name": "stdout",
     "output_type": "stream",
     "text": [
      "Wall time: 23 s\n"
     ]
    },
    {
     "name": "stderr",
     "output_type": "stream",
     "text": [
      "C:\\Users\\KarlKristian\\Anaconda3\\envs\\numfys\\lib\\site-packages\\ipykernel_launcher.py:26: RuntimeWarning: Mean of empty slice.\n"
     ]
    },
    {
     "data": {
      "text/plain": [
       "array([nan])"
      ]
     },
     "execution_count": 10,
     "metadata": {},
     "output_type": "execute_result"
    }
   ],
   "source": [
    "%time test_tau = get_tau_debug(Ny, N_sweeps, np.array([T[3]]), N_runs=5, skips=300)\n",
    "test_tau"
   ]
  },
  {
   "cell_type": "code",
   "execution_count": 11,
   "metadata": {},
   "outputs": [],
   "source": [
    "from lattice_utils import get_flip_energy, get_lattice_pp, convert_pp_to_pm, energy_diff\n",
    "from mon_jasnow import ising_hamiltonian, metropolis_subroutine"
   ]
  },
  {
   "cell_type": "code",
   "execution_count": 12,
   "metadata": {},
   "outputs": [],
   "source": [
    "l = get_lattice_pp(16, aligned=True)"
   ]
  },
  {
   "cell_type": "code",
   "execution_count": 13,
   "metadata": {
    "collapsed": true,
    "jupyter": {
     "outputs_hidden": true
    }
   },
   "outputs": [
    {
     "name": "stdout",
     "output_type": "stream",
     "text": [
      "16.0\n",
      "32.0\n"
     ]
    }
   ],
   "source": [
    "for i in range(100):\n",
    "    metropolis_subroutine(l,2)\n",
    "lpm =convert_pp_to_pm(l)\n",
    "print(ising_hamiltonian(lpm) - ising_hamiltonian(l))\n",
    "print(energy_diff(l))"
   ]
  },
  {
   "cell_type": "code",
   "execution_count": 14,
   "metadata": {},
   "outputs": [
    {
     "data": {
      "text/plain": [
       "8.0"
      ]
     },
     "execution_count": 14,
     "metadata": {},
     "output_type": "execute_result"
    }
   ],
   "source": [
    "get_flip_energy(5, 5, l)"
   ]
  },
  {
   "cell_type": "code",
   "execution_count": 15,
   "metadata": {},
   "outputs": [],
   "source": [
    "lc = l.copy()\n",
    "lc[5, 5] *= -1"
   ]
  },
  {
   "cell_type": "code",
   "execution_count": 16,
   "metadata": {},
   "outputs": [
    {
     "data": {
      "text/plain": [
       "8.0"
      ]
     },
     "execution_count": 16,
     "metadata": {},
     "output_type": "execute_result"
    }
   ],
   "source": [
    "ising_hamiltonian(lc) - ising_hamiltonian(l)"
   ]
  }
 ],
 "metadata": {
  "kernelspec": {
   "display_name": "Python 3",
   "language": "python",
   "name": "python3"
  },
  "language_info": {
   "codemirror_mode": {
    "name": "ipython",
    "version": 3
   },
   "file_extension": ".py",
   "mimetype": "text/x-python",
   "name": "python",
   "nbconvert_exporter": "python",
   "pygments_lexer": "ipython3",
   "version": "3.7.6"
  }
 },
 "nbformat": 4,
 "nbformat_minor": 4
}
