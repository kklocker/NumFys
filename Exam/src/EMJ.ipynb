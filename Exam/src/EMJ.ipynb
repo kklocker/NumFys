{
 "cells": [
  {
   "cell_type": "markdown",
   "metadata": {},
   "source": [
    "# Extended Mon-Jasnow"
   ]
  },
  {
   "cell_type": "code",
   "execution_count": 1,
   "metadata": {},
   "outputs": [],
   "source": [
    "import numpy as np\n",
    "import matplotlib.pyplot as plt\n",
    "from numba import njit\n",
    "import palettable as pl\n",
    "emr = pl.cartocolors.sequential.Emrld_7_r.get_mpl_colormap()\n",
    "plt.style.use('Solarize_Light2')"
   ]
  },
  {
   "cell_type": "code",
   "execution_count": 2,
   "metadata": {},
   "outputs": [],
   "source": [
    "from lattice_utils import basic_lattice, convert_pp_to_pm#, get_flip_energy\n",
    "from mon_jasnow import ising_hamiltonian#, metropolis_subroutine"
   ]
  },
  {
   "cell_type": "code",
   "execution_count": 13,
   "metadata": {},
   "outputs": [],
   "source": [
    "@njit\n",
    "def metropolis_subroutine(lat_pp, T, bc=\"mj\"):\n",
    "    \"\"\"\n",
    "    Subroutine for metropolis algorithm.\n",
    "    Handles spin flipping for the lattice. \n",
    "\n",
    "\n",
    "    Timings:\n",
    "          100x100:  14.1 ms ± 339 µs\n",
    "        1000x1000:  1.56 s ± 40.3 ms\n",
    "\n",
    "    Returns:\n",
    "        Nothing. Does all lattice manipulation in place.\n",
    "    \n",
    "    \"\"\"\n",
    "\n",
    "    N = lat_pp.shape[1]\n",
    "    n = 0\n",
    "    while n < N ** 2:  # N^2 Flip tries.\n",
    "        i, j = np.random.randint(\n",
    "            0, N, size=2\n",
    "        )  # Generate random indices and shift in the direction that has extra rows.\n",
    "\n",
    "        if bc == \"mj\":  # Shift index to not flip boundary edges\n",
    "            i += 1\n",
    "\n",
    "        flip_energy_pp = get_flip_energy(i, j, lat_pp, bc=bc)\n",
    "#         tmp = lat_pp.copy()\n",
    "#         tmp[i,j] *= -1\n",
    "#         ediff = ising_hamiltonian(tmp, J=1.0, boundary_cond=bc) - ising_hamiltonian(lat_pp, boundary_cond=bc)\n",
    "#         print(flip_energy_pp, ediff)\n",
    "        \n",
    "        if T == 0.0:\n",
    "            if flip_energy_pp <= 0.0:\n",
    "                lat_pp[i, j] *= -1\n",
    "                # lat_pm[i, j] *= -1\n",
    "            else:\n",
    "                pass\n",
    "        else:\n",
    "            transition_prob = np.exp(-flip_energy_pp / T)  # W(x|y)\n",
    "            r = np.random.uniform(0.0, 1.0)\n",
    "\n",
    "            if transition_prob >= r:\n",
    "                lat_pp[i, j] *= -1\n",
    "                # lat_pm[i, j] *= -1\n",
    "        n += 1\n",
    "        \n",
    "        \n",
    "@njit\n",
    "def get_flip_energy(i, j, lat, bc=\"mj\"):\n",
    "    \"\"\"\n",
    "    (Local Hamilonian)\n",
    "    Returns integer of sum of nearest spins times the on site spin.\n",
    "    Assumes periodic boundary conditions in the second axis and no index error in the first axis.\n",
    "    \n",
    "    Used for getting the transition probability in metropolis algorithm\n",
    "    \"\"\"\n",
    "\n",
    "    sp = lat[i, j]\n",
    "    J = 1.0\n",
    "    if bc == \"mj\":  # Boundary conditions for the original Mon Jasnow Algorithm\n",
    "        n = lat.shape[1]  # Original number of points along each direction\n",
    "\n",
    "\n",
    "        j_1 = (j + 1) % n  # PBC y-dir\n",
    "        j_2 = (j - 1) % n  # PBC y-dir\n",
    "\n",
    "        sum_other = lat[i - 1, j] + lat[i + 1, j] + lat[i, j_1] + lat[i, j_2]\n",
    "\n",
    "        return (\n",
    "            sp * J * sum_other\n",
    "        )  # Difference in energy when flipping. Minussign in H accounted for\n",
    "\n",
    "    elif bc == \"torus\":  # Boundary condition for torus\n",
    "\n",
    "        nx, ny = lat.shape\n",
    "        sum_other = (\n",
    "            lat[(i - 1) % nx, j]\n",
    "            + lat[(i + 1) % nx, j]\n",
    "            + lat[i, (j + 1) % ny]\n",
    "            + lat[i, (j - 1) % ny]\n",
    "        )\n",
    "        return sp * J * sum_other *2\n",
    "    \n",
    "    elif bc == 'klein':\n",
    "        tmp = lat.copy()\n",
    "        tmp[i,j] *= -1\n",
    "        \n",
    "        e_flip = ising_hamiltonian(tmp, boundary_cond='klein')\n",
    "        e_noflip =ising_hamiltonian(lat, boundary_cond='klein')\n",
    "        \n",
    "        return e_flip - e_noflip"
   ]
  },
  {
   "cell_type": "code",
   "execution_count": 4,
   "metadata": {},
   "outputs": [],
   "source": [
    "Tc = 2 / (np.log(1+np.sqrt(2)))"
   ]
  },
  {
   "cell_type": "code",
   "execution_count": 8,
   "metadata": {},
   "outputs": [],
   "source": [
    "N = 30\n",
    "l = basic_lattice(N)\n",
    "init = l.copy()"
   ]
  },
  {
   "cell_type": "code",
   "execution_count": 63,
   "metadata": {},
   "outputs": [
    {
     "data": {
      "image/png": "[encoded data removed]",
      "text/plain": [
       "<Figure size 720x720 with 9 Axes>"
      ]
     },
     "metadata": {},
     "output_type": "display_data"
    }
   ],
   "source": [
    "# Plot Torus states near tc\n",
    "\n",
    "t_arr = np.linspace(0.95,1.05, 9)\n",
    "\n",
    "fig, axs = plt.subplots(nrows = 3, ncols=3, figsize=(10,10))\n",
    "\n",
    "for i,ax in enumerate(axs.flat):\n",
    "    \n",
    "    l = basic_lattice(N)\n",
    "    for _ in range(1000):\n",
    "        metropolis_subroutine(l, t_arr[i] * Tc, bc='torus')\n",
    "    \n",
    "    \n",
    "    ax.imshow(l, cmap=emr)\n",
    "    ax.set_title(f\"$T = ${t_arr[i]:.2f}$T_c$\", size=20)\n",
    "    ax.grid()\n",
    "#     plt.show()\n",
    "fig.tight_layout()"
   ]
  },
  {
   "cell_type": "code",
   "execution_count": 11,
   "metadata": {},
   "outputs": [
    {
     "data": {
      "image/png": "[encoded data removed]",
      "text/plain": [
       "<Figure size 720x720 with 2 Axes>"
      ]
     },
     "metadata": {},
     "output_type": "display_data"
    }
   ],
   "source": [
    "for i in range(1000):\n",
    "    metropolis_subroutine(l, 2.6, bc='torus')\n",
    "plt.figure(figsize= (10, 10))\n",
    "plt.subplot(121)\n",
    "plt.imshow(init, cmap=emr)\n",
    "plt.subplot(122)\n",
    "plt.imshow(l, cmap = emr)\n",
    "plt.grid()"
   ]
  },
  {
   "cell_type": "code",
   "execution_count": 12,
   "metadata": {},
   "outputs": [
    {
     "name": "stdout",
     "output_type": "stream",
     "text": [
      "Wall time: 0 ns\n",
      "Wall time: 0 ns\n",
      "-836.0 -864.0\n",
      "28.0\n"
     ]
    }
   ],
   "source": [
    "# for i in range(100):\n",
    "#     metropolis_subroutine(l,T=0.01, bc = 'torus')\n",
    "%time Hk = ising_hamiltonian(l, boundary_cond='klein')\n",
    "%time Ht = ising_hamiltonian(l, boundary_cond='torus')\n",
    "print(Hk, Ht)\n",
    "print(Hk-Ht)\n",
    "\n"
   ]
  },
  {
   "cell_type": "markdown",
   "metadata": {},
   "source": [
    "## Check klein states"
   ]
  },
  {
   "cell_type": "code",
   "execution_count": 22,
   "metadata": {},
   "outputs": [],
   "source": [
    "k = basic_lattice(30)\n",
    "init_k =k.copy()"
   ]
  },
  {
   "cell_type": "code",
   "execution_count": 62,
   "metadata": {},
   "outputs": [
    {
     "data": {
      "text/plain": [
       "<matplotlib.image.AxesImage at 0x281d9b19688>"
      ]
     },
     "execution_count": 62,
     "metadata": {},
     "output_type": "execute_result"
    },
    {
     "data": {
      "image/png": "[encoded data removed]",
      "text/plain": [
       "<Figure size 432x288 with 1 Axes>"
      ]
     },
     "metadata": {},
     "output_type": "display_data"
    }
   ],
   "source": [
    "metropolis_subroutine(k, 2.4,bc='klein')\n",
    "plt.imshow(k)"
   ]
  },
  {
   "cell_type": "code",
   "execution_count": 65,
   "metadata": {
    "collapsed": true,
    "jupyter": {
     "outputs_hidden": true
    }
   },
   "outputs": [
    {
     "name": "stdout",
     "output_type": "stream",
     "text": [
      "0\n",
      "1\n",
      "2\n",
      "3\n",
      "4\n",
      "5\n",
      "6\n",
      "7\n",
      "8\n"
     ]
    },
    {
     "data": {
      "image/png": "[encoded data removed]",
      "text/plain": [
       "<Figure size 720x720 with 9 Axes>"
      ]
     },
     "metadata": {},
     "output_type": "display_data"
    }
   ],
   "source": [
    "# Plot klein states near tc\n",
    "\n",
    "t_arr = np.linspace(0.95,1.05, 9)\n",
    "N=16\n",
    "fig, axs = plt.subplots(nrows = 3, ncols=3, figsize=(10,10))\n",
    "\n",
    "for i,ax in enumerate(axs.flat):\n",
    "    print(i)\n",
    "    l = basic_lattice(N)\n",
    "    for _ in range(1000):\n",
    "        metropolis_subroutine(l, t_arr[i] * Tc, bc='klein')\n",
    "    ax.imshow(l, cmap=emr)\n",
    "    ax.set_title(f\"$T = ${t_arr[i]:.2f}$T_c$\", size=20)\n",
    "    ax.grid()\n",
    "#     plt.show()\n",
    "fig.tight_layout()"
   ]
  },
  {
   "cell_type": "markdown",
   "metadata": {},
   "source": [
    "# Energy difference in torus states"
   ]
  },
  {
   "cell_type": "code",
   "execution_count": 374,
   "metadata": {},
   "outputs": [],
   "source": [
    "N = 100\n",
    "l = basic_lattice(N)\n",
    "init = l.copy()"
   ]
  },
  {
   "cell_type": "code",
   "execution_count": 347,
   "metadata": {},
   "outputs": [
    {
     "name": "stdout",
     "output_type": "stream",
     "text": [
      "-408.0 -404.0 -4.0\n"
     ]
    },
    {
     "data": {
      "image/png": "[encoded data removed]",
      "text/plain": [
       "<Figure size 432x288 with 1 Axes>"
      ]
     },
     "metadata": {},
     "output_type": "display_data"
    }
   ],
   "source": [
    "metropolis_subroutine(l, 5, bc= 'torus')\n",
    "hk = ising_hamiltonian(l, boundary_cond='klein')\n",
    "ht = ising_hamiltonian(l, boundary_cond='torus')\n",
    "print(hk, ht, (hk -ht))\n",
    "plt.imshow(l)\n",
    "plt.grid()"
   ]
  },
  {
   "cell_type": "code",
   "execution_count": 364,
   "metadata": {},
   "outputs": [],
   "source": [
    "@njit\n",
    "def ediff(l):\n",
    "    return np.sum(l[-1,:]*(l[0,::-1] + l[0,:]))"
   ]
  },
  {
   "cell_type": "code",
   "execution_count": 375,
   "metadata": {},
   "outputs": [
    {
     "name": "stdout",
     "output_type": "stream",
     "text": [
      "899 ns ± 62.1 ns per loop (mean ± std. dev. of 7 runs, 1000000 loops each)\n"
     ]
    }
   ],
   "source": [
    "%timeit ediff(l)"
   ]
  },
  {
   "cell_type": "code",
   "execution_count": 376,
   "metadata": {},
   "outputs": [
    {
     "name": "stdout",
     "output_type": "stream",
     "text": [
      "205 µs ± 8.16 µs per loop (mean ± std. dev. of 7 runs, 1000 loops each)\n"
     ]
    }
   ],
   "source": [
    "%%timeit\n",
    "hk = ising_hamiltonian(l, boundary_cond='klein')\n",
    "ht = ising_hamiltonian(l, boundary_cond='torus')\n",
    "diff = hk - ht"
   ]
  },
  {
   "cell_type": "code",
   "execution_count": 215,
   "metadata": {},
   "outputs": [],
   "source": [
    "kk =np.arange(9).reshape((3,3))"
   ]
  },
  {
   "cell_type": "code",
   "execution_count": 381,
   "metadata": {},
   "outputs": [
    {
     "name": "stdout",
     "output_type": "stream",
     "text": [
      "Wall time: 370 ms\n"
     ]
    }
   ],
   "source": [
    "%%time\n",
    "for _ in range(10000):\n",
    "    rl = basic_lattice(30, aligned=False)# Random matrices\n",
    "    e1 = ediff(rl)\n",
    "    hk = ising_hamiltonian(rl, boundary_cond='klein')\n",
    "    ht = ising_hamiltonian(rl, boundary_cond='torus')\n",
    "    diff = hk - ht\n",
    "    if e1 != diff:\n",
    "        print(\"Yuck\")"
   ]
  },
  {
   "cell_type": "code",
   "execution_count": null,
   "metadata": {},
   "outputs": [],
   "source": []
  }
 ],
 "metadata": {
  "kernelspec": {
   "display_name": "Python 3",
   "language": "python",
   "name": "python3"
  },
  "language_info": {
   "codemirror_mode": {
    "name": "ipython",
    "version": 3
   },
   "file_extension": ".py",
   "mimetype": "text/x-python",
   "name": "python",
   "nbconvert_exporter": "python",
   "pygments_lexer": "ipython3",
   "version": "3.7.6"
  }
 },
 "nbformat": 4,
 "nbformat_minor": 4
}
