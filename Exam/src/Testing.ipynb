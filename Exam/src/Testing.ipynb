{
 "cells": [
  {
   "cell_type": "markdown",
   "metadata": {},
   "source": [
    "# Basic case"
   ]
  },
  {
   "cell_type": "code",
   "execution_count": 1,
   "metadata": {},
   "outputs": [],
   "source": [
    "import numpy as np\n",
    "from numba import njit\n",
    "\n",
    "\n",
    "def met_tmp(lat, T = 0.0):\n",
    "    N = lat.shape[0]\n",
    "    n = 0\n",
    "    while n < N**2:\n",
    "        i,j = np.random.randint(0, N, size=2)\n",
    "        delta_E = get_delta_E(i,j,lat)\n",
    "        if T ==0.0:\n",
    "            if delta_E <=0:\n",
    "                lat[i,j] *=-1\n",
    "        else:\n",
    "            w = np.exp(-delta_E / T)\n",
    "            r = np.random.uniform(0.,1.)\n",
    "            if w>r:\n",
    "                lat[i,j] *= -1\n",
    "        n += 1\n",
    "    \n",
    "    \n",
    "\n",
    "@njit\n",
    "def get_delta_E(i, j, lat):\n",
    "    \n",
    "    nx, ny = lat.shape  # Original number of points along each direction\n",
    "    sp = lat[i, j]\n",
    "\n",
    "    i_1 = (i-1)%nx\n",
    "    i_2 = (i+1)%nx\n",
    "    j_1 = (j + 1) % ny  # PBC y-dir\n",
    "    j_2 = (j - 1) % ny # PBC y-dir\n",
    "    \n",
    "    sum_other = lat[i_1, j] + lat[i_2, j] + lat[i, j_1] + lat[i, j_2]\n",
    "\n",
    "    return 2 * sp * sum_other  # Difference in energy when flipping\n"
   ]
  },
  {
   "cell_type": "markdown",
   "metadata": {},
   "source": [
    "# Mon Jasnow \n",
    "---"
   ]
  },
  {
   "cell_type": "code",
   "execution_count": 2,
   "metadata": {},
   "outputs": [],
   "source": [
    "%load_ext autoreload\n",
    "%autoreload 2"
   ]
  },
  {
   "cell_type": "code",
   "execution_count": 3,
   "metadata": {},
   "outputs": [],
   "source": [
    "import matplotlib.pyplot as plt\n",
    "%matplotlib inline\n",
    "import palettable as pl\n",
    "emr = pl.cartocolors.sequential.Emrld_7_r.get_mpl_colormap()"
   ]
  },
  {
   "cell_type": "code",
   "execution_count": 4,
   "metadata": {},
   "outputs": [],
   "source": [
    "from mon_jasnow import ising_hamiltonian, metropolis_subroutine, metropolis_MJ\n",
    "from lattice_utils import get_lattice_pp,get_lattice_pm, convert_pp_to_pm, energy_diff, get_flip_energy"
   ]
  },
  {
   "cell_type": "code",
   "execution_count": 5,
   "metadata": {},
   "outputs": [
    {
     "name": "stdout",
     "output_type": "stream",
     "text": [
      "Wall time: 1.15 s\n"
     ]
    }
   ],
   "source": [
    "N = 20\n",
    "T = 0.1\n",
    "%time la_pp = get_lattice_pp(N)\n",
    "init_lattice = la_pp.copy()"
   ]
  },
  {
   "cell_type": "code",
   "execution_count": 9,
   "metadata": {},
   "outputs": [],
   "source": [
    "# Check that energy diff function returns the same as the difference in hamiltonians\n",
    "la_pp = get_lattice_pp(N)\n",
    "\n",
    "for i in range(1000):\n",
    "    i,j = np.random.randint(0, N, size=2) +[1, 0]\n",
    "    tmp = la_pp.copy()\n",
    "    tmp[i,j] *= -1\n",
    "    ed = get_flip_energy(i,j,la_pp)\n",
    "    ed2 = ising_hamiltonian(tmp) - ising_hamiltonian(la_pp)\n",
    "    metropolis_subroutine(la_pp, T)\n",
    "    if ed != ed2:\n",
    "        print(i,j,ed, ed2, la_pp.shape[0])"
   ]
  },
  {
   "cell_type": "code",
   "execution_count": 14,
   "metadata": {},
   "outputs": [
    {
     "name": "stdout",
     "output_type": "stream",
     "text": [
      "Wall time: 21.5 ms\n"
     ]
    }
   ],
   "source": [
    "%%time\n",
    "for _ in range(200): # N_sweeps\n",
    "    metropolis_subroutine(la_pp, T)"
   ]
  },
  {
   "cell_type": "code",
   "execution_count": 69,
   "metadata": {},
   "outputs": [
    {
     "name": "stdout",
     "output_type": "stream",
     "text": [
      "Wall time: 0 ns\n",
      "Wall time: 0 ns\n"
     ]
    },
    {
     "data": {
      "text/plain": [
       "40"
      ]
     },
     "execution_count": 69,
     "metadata": {},
     "output_type": "execute_result"
    }
   ],
   "source": [
    "%time ising_hamiltonian(la_pp, J=1.0, boundary_cond='mj')\n",
    "%time k =energy_diff(la_pp)\n",
    "k"
   ]
  },
  {
   "cell_type": "code",
   "execution_count": 70,
   "metadata": {},
   "outputs": [
    {
     "data": {
      "text/plain": [
       "<matplotlib.image.AxesImage at 0x138969ddfc8>"
      ]
     },
     "execution_count": 70,
     "metadata": {},
     "output_type": "execute_result"
    },
    {
     "data": {
      "image/png": "[encoded data removed]",
      "text/plain": [
       "<Figure size 720x720 with 2 Axes>"
      ]
     },
     "metadata": {
      "needs_background": "light"
     },
     "output_type": "display_data"
    }
   ],
   "source": [
    "plt.figure(figsize=(10, 10))\n",
    "plt.subplot(121)\n",
    "plt.imshow(init_lattice, cmap=emr)\n",
    "plt.subplot(122)\n",
    "plt.imshow(la_pp, cmap=emr)"
   ]
  }
 ],
 "metadata": {
  "kernelspec": {
   "display_name": "Python 3",
   "language": "python",
   "name": "python3"
  },
  "language_info": {
   "codemirror_mode": {
    "name": "ipython",
    "version": 3
   },
   "file_extension": ".py",
   "mimetype": "text/x-python",
   "name": "python",
   "nbconvert_exporter": "python",
   "pygments_lexer": "ipython3",
   "version": "3.7.6"
  }
 },
 "nbformat": 4,
 "nbformat_minor": 4
}
