{
 "cells": [
  {
   "cell_type": "markdown",
   "metadata": {},
   "source": [
    "# Basic case"
   ]
  },
  {
   "cell_type": "code",
   "execution_count": 1,
   "metadata": {},
   "outputs": [],
   "source": [
    "import numpy as np\n",
    "from numba import njit\n",
    "\n",
    "\n",
    "def met_tmp(lat, T = 0.0):\n",
    "    N = lat.shape[0]\n",
    "    n = 0\n",
    "    while n < N**2:\n",
    "        i,j = np.random.randint(0, N, size=2)\n",
    "        delta_E = get_delta_E(i,j,lat)\n",
    "        if T ==0.0:\n",
    "            if delta_E <=0:\n",
    "                lat[i,j] *=-1\n",
    "        else:\n",
    "            w = np.exp(-delta_E / T)\n",
    "            r = np.random.uniform(0.,1.)\n",
    "            if w>r:\n",
    "                lat[i,j] *= -1\n",
    "        n += 1\n",
    "    \n",
    "    \n",
    "\n",
    "@njit\n",
    "def get_delta_E(i, j, lat):\n",
    "    \n",
    "    nx, ny = lat.shape  # Original number of points along each direction\n",
    "    sp = lat[i, j]\n",
    "\n",
    "    i_1 = (i-1)%nx\n",
    "    i_2 = (i+1)%nx\n",
    "    j_1 = (j + 1) % ny  # PBC y-dir\n",
    "    j_2 = (j - 1) % ny # PBC y-dir\n",
    "    \n",
    "    sum_other = lat[i_1, j] + lat[i_2, j] + lat[i, j_1] + lat[i, j_2]\n",
    "\n",
    "    return 2 * sp * sum_other  # Difference in energy when flipping\n"
   ]
  },
  {
   "cell_type": "markdown",
   "metadata": {},
   "source": [
    "# Mon Jasnow \n",
    "---"
   ]
  },
  {
   "cell_type": "code",
   "execution_count": 2,
   "metadata": {},
   "outputs": [],
   "source": [
    "%load_ext autoreload\n",
    "%autoreload 2"
   ]
  },
  {
   "cell_type": "code",
   "execution_count": 3,
   "metadata": {},
   "outputs": [],
   "source": [
    "import matplotlib.pyplot as plt\n",
    "%matplotlib inline\n",
    "import palettable as pl\n",
    "emr = pl.cartocolors.sequential.Emrld_7_r.get_mpl_colormap()"
   ]
  },
  {
   "cell_type": "code",
   "execution_count": 4,
   "metadata": {},
   "outputs": [],
   "source": [
    "from mon_jasnow import ising_hamiltonian, metropolis_subroutine, metropolis_MJ\n",
    "from lattice_utils import get_lattice_pp,get_lattice_pm"
   ]
  },
  {
   "cell_type": "code",
   "execution_count": 5,
   "metadata": {},
   "outputs": [],
   "source": [
    "N = 30\n",
    "T = 1\n",
    "la_pp = get_lattice_pp(N)\n",
    "init_lattice = la_pp.copy()"
   ]
  },
  {
   "cell_type": "code",
   "execution_count": 6,
   "metadata": {},
   "outputs": [
    {
     "name": "stdout",
     "output_type": "stream",
     "text": [
      "Wall time: 814 ms\n"
     ]
    }
   ],
   "source": [
    "%%time\n",
    "for _ in range(200): # N_sweeps\n",
    "    metropolis_subroutine(la_pp, T, J=1)"
   ]
  },
  {
   "cell_type": "code",
   "execution_count": 7,
   "metadata": {},
   "outputs": [
    {
     "name": "stdout",
     "output_type": "stream",
     "text": [
      "Wall time: 1.58 s\n"
     ]
    },
    {
     "data": {
      "text/plain": [
       "-1630.0"
      ]
     },
     "execution_count": 7,
     "metadata": {},
     "output_type": "execute_result"
    }
   ],
   "source": [
    "%time ising_hamiltonian(la_pp, J=1.0, boundary_cond='mj')"
   ]
  },
  {
   "cell_type": "code",
   "execution_count": 8,
   "metadata": {},
   "outputs": [
    {
     "data": {
      "text/plain": [
       "<matplotlib.image.AxesImage at 0x17d55f502c8>"
      ]
     },
     "execution_count": 8,
     "metadata": {},
     "output_type": "execute_result"
    },
    {
     "data": {
      "image/png": "[encoded data removed]",
      "text/plain": [
       "<Figure size 720x720 with 2 Axes>"
      ]
     },
     "metadata": {
      "needs_background": "light"
     },
     "output_type": "display_data"
    }
   ],
   "source": [
    "plt.figure(figsize=(10, 10))\n",
    "plt.subplot(121)\n",
    "plt.imshow(init_lattice, cmap=emr)\n",
    "plt.subplot(122)\n",
    "plt.imshow(la_pp, cmap=emr)"
   ]
  },
  {
   "cell_type": "markdown",
   "metadata": {},
   "source": [
    "## Get energies"
   ]
  },
  {
   "cell_type": "code",
   "execution_count": 9,
   "metadata": {},
   "outputs": [
    {
     "name": "stdout",
     "output_type": "stream",
     "text": [
      "Wall time: 2.36 s\n"
     ]
    }
   ],
   "source": [
    "N_size= 32 # Size of arrays\n",
    "N_avg = 20 # Number of elements average over\n",
    "N_sweeps = 50 # Number of sweeps\n",
    "T = 0.1\n",
    "%time h_list = metropolis_MJ(N_size, N_sweeps, N_avg, T)"
   ]
  },
  {
   "cell_type": "code",
   "execution_count": 10,
   "metadata": {},
   "outputs": [
    {
     "data": {
      "text/plain": [
       "2.0000000000000013"
      ]
     },
     "execution_count": 10,
     "metadata": {},
     "output_type": "execute_result"
    }
   ],
   "source": [
    "m = np.array([np.exp(-(h[1]-h[0])/(N_size**2 * T)) for h in h_list]).mean()\n",
    "-T * np.log(m) * N_size"
   ]
  },
  {
   "cell_type": "code",
   "execution_count": 11,
   "metadata": {},
   "outputs": [],
   "source": [
    "Tc = 2/np.log(1+np.sqrt(2)) # critical temperature"
   ]
  },
  {
   "cell_type": "code",
   "execution_count": 12,
   "metadata": {},
   "outputs": [],
   "source": [
    "T_list = np.linspace(0.001,2*Tc, 10)"
   ]
  },
  {
   "cell_type": "code",
   "execution_count": 13,
   "metadata": {},
   "outputs": [],
   "source": [
    "from dask import delayed, compute"
   ]
  },
  {
   "cell_type": "code",
   "execution_count": 14,
   "metadata": {},
   "outputs": [
    {
     "name": "stdout",
     "output_type": "stream",
     "text": [
      "Wall time: 4.29 s\n"
     ]
    },
    {
     "name": "stderr",
     "output_type": "stream",
     "text": [
      "C:\\Users\\KarlKristian\\Anaconda3\\envs\\numfys\\lib\\site-packages\\ipykernel_launcher.py:10: RuntimeWarning: overflow encountered in exp\n",
      "  # Remove the CWD from sys.path while we load stuff.\n",
      "C:\\Users\\KarlKristian\\Anaconda3\\envs\\numfys\\lib\\site-packages\\ipykernel_launcher.py:11: RuntimeWarning: overflow encountered in exp\n",
      "  # This is added back by InteractiveShellApp.init_path()\n",
      "C:\\Users\\KarlKristian\\Anaconda3\\envs\\numfys\\lib\\site-packages\\ipykernel_launcher.py:12: RuntimeWarning: invalid value encountered in double_scalars\n",
      "  if sys.path[0] == '':\n"
     ]
    }
   ],
   "source": [
    "%%time\n",
    "tau_list = np.zeros_like(T_list)\n",
    "h =[]\n",
    "for t in T_list:\n",
    "    h_list = delayed(metropolis_MJ)(N_size, N_sweeps, N_avg, t)\n",
    "    h.append(h_list)\n",
    "    \n",
    "res = compute(*h)\n",
    "\n",
    "for i,t in enumerate(T_list):\n",
    "    p = np.array([np.exp(-(h[1]-h[0])/(N_size**2 * t))*np.exp(-h[0]/(N_size**2 * t)) for h in res[i]])\n",
    "    zp = np.array([np.exp(-h[0] / (N_size**2 * t)) for h in res[i]])\n",
    "    partition_ratio  = np.sum(p) / np.sum(zp)\n",
    "    tau_list[i] = -t * np.log(partition_ratio)"
   ]
  },
  {
   "cell_type": "code",
   "execution_count": 15,
   "metadata": {},
   "outputs": [
    {
     "name": "stdout",
     "output_type": "stream",
     "text": [
      "7.187781739060989e-28 inf\n"
     ]
    },
    {
     "name": "stderr",
     "output_type": "stream",
     "text": [
      "C:\\Users\\KarlKristian\\Anaconda3\\envs\\numfys\\lib\\site-packages\\ipykernel_launcher.py:3: RuntimeWarning: overflow encountered in exp\n",
      "  This is separate from the ipykernel package so we can avoid doing imports until\n"
     ]
    }
   ],
   "source": [
    "test_h = res[0][0]\n",
    "e1 =np.exp(-(test_h[1]-test_h[0])/(N_size**2 * T_list[0])) \n",
    "e2 = np.exp(-test_h[0]/(N_size**2 * 0.001))\n",
    "print(e1, e2)"
   ]
  },
  {
   "cell_type": "code",
   "execution_count": 16,
   "metadata": {},
   "outputs": [
    {
     "data": {
      "text/plain": [
       "(0, 5)"
      ]
     },
     "execution_count": 16,
     "metadata": {},
     "output_type": "execute_result"
    },
    {
     "data": {
      "image/png": "[encoded data removed]",
      "text/plain": [
       "<Figure size 432x288 with 1 Axes>"
      ]
     },
     "metadata": {
      "needs_background": "light"
     },
     "output_type": "display_data"
    }
   ],
   "source": [
    "plt.plot(T_list/Tc, tau_list *N_size)\n",
    "plt.ylim(0,5)"
   ]
  },
  {
   "cell_type": "code",
   "execution_count": 383,
   "metadata": {},
   "outputs": [],
   "source": [
    "def alternative_metropolis_mj(N_size, N_sweeps, T, skips = 2):\n",
    "    ev = []\n",
    "    lattice_pp = get_lattice_pp(N_size)                         # Create ++ -lattice\n",
    "    prev = 0                                                    # keeps track of last sampled state \n",
    "    for i in range(N_sweeps):                                   # Do N_sweep sweeps\n",
    "        \n",
    "        metropolis_subroutine(lattice_pp, T, J=1.0)              # Tries to flip N^2 spins\n",
    "        if (i > 30) and (i>=(prev+skips)):                      # Initial sweeps, and skip sweep between each sample\n",
    "            prev = i\n",
    "            lattice_pm = get_lattice_pm(lattice_pp)             # Create (+-) - lattice\n",
    "            E_pp = ising_hamiltonian(lattice_pp)                # Get energies\n",
    "            E_pm = ising_hamiltonian(lattice_pm)\n",
    "            ev.append(np.exp(-(E_pm - E_pp) / (N_size * T)))     # Add exp(-(E_{+-} - E_{++})/T) to a list\n",
    "    ev = np.array(ev)\n",
    "    return ev.mean(), ev.std()                                  # Return the mean and std"
   ]
  },
  {
   "cell_type": "code",
   "execution_count": 384,
   "metadata": {},
   "outputs": [
    {
     "data": {
      "text/plain": [
       "1.8832512938761006"
      ]
     },
     "execution_count": 384,
     "metadata": {},
     "output_type": "execute_result"
    }
   ],
   "source": [
    "N_size=  50\n",
    "N_sweeps = 500\n",
    "T = 1\n",
    "ev,_ = alternative_metropolis_mj(N_size, N_sweeps, T, skips=2)\n",
    "-T*np.log(ev)"
   ]
  },
  {
   "cell_type": "code",
   "execution_count": 385,
   "metadata": {},
   "outputs": [],
   "source": [
    "t = np.linspace(0.1, 4, 20)"
   ]
  },
  {
   "cell_type": "code",
   "execution_count": 386,
   "metadata": {},
   "outputs": [
    {
     "name": "stderr",
     "output_type": "stream",
     "text": [
      "C:\\Users\\KarlKristian\\Anaconda3\\envs\\numfys\\lib\\site-packages\\ipykernel_launcher.py:1: RuntimeWarning: divide by zero encountered in log\n",
      "  \"\"\"Entry point for launching an IPython kernel.\n"
     ]
    },
    {
     "name": "stdout",
     "output_type": "stream",
     "text": [
      "Wall time: 13.7 s\n"
     ]
    }
   ],
   "source": [
    "%time tau = np.array([t_ * np.log(alternative_metropolis_mj(N_size, N_sweeps, t_, skips=2)) for t_ in t])"
   ]
  },
  {
   "cell_type": "code",
   "execution_count": 387,
   "metadata": {},
   "outputs": [],
   "source": [
    "e = np.array(e)\n",
    "s = np.array(s)"
   ]
  },
  {
   "cell_type": "code",
   "execution_count": 388,
   "metadata": {},
   "outputs": [
    {
     "data": {
      "text/plain": [
       "Text(0, 0.5, '$\\\\tau$')"
      ]
     },
     "execution_count": 388,
     "metadata": {},
     "output_type": "execute_result"
    },
    {
     "data": {
      "image/png": "[encoded data removed]",
      "text/plain": [
       "<Figure size 432x288 with 1 Axes>"
      ]
     },
     "metadata": {
      "needs_background": "light"
     },
     "output_type": "display_data"
    }
   ],
   "source": [
    "plt.scatter(t/Tc, -tau[:,0])\n",
    "# plt.fill_between(t/Tc, -e, -(e+s), alpha = 0.2)\n",
    "# plt.fill_between(t/Tc, -e, (-e+s), alpha=  0.2)\n",
    "plt.xlim(0,1.2)\n",
    "plt.ylim(0,2.2)\n",
    "plt.xlabel(fr\"$T\\ /\\ T_C$\", size=20)\n",
    "plt.title(f\"N_y = {N_size}\")\n",
    "plt.ylabel(fr\"$\\tau$\", size = 20)"
   ]
  },
  {
   "cell_type": "markdown",
   "metadata": {},
   "source": [
    "### Fig 4"
   ]
  },
  {
   "cell_type": "code",
   "execution_count": 379,
   "metadata": {},
   "outputs": [],
   "source": [
    "N_list = np.arange(2, 32)"
   ]
  },
  {
   "cell_type": "code",
   "execution_count": 380,
   "metadata": {},
   "outputs": [],
   "source": [
    "tau_f = np.array([-Tc * np.log(alternative_metropolis_mj(n, N_sweeps, Tc)[0]) for n in N_list])"
   ]
  },
  {
   "cell_type": "code",
   "execution_count": 382,
   "metadata": {},
   "outputs": [
    {
     "data": {
      "text/plain": [
       "[<matplotlib.lines.Line2D at 0x17d5ba98508>]"
      ]
     },
     "execution_count": 382,
     "metadata": {},
     "output_type": "execute_result"
    },
    {
     "data": {
      "image/png": "[encoded data removed]",
      "text/plain": [
       "<Figure size 432x288 with 1 Axes>"
      ]
     },
     "metadata": {
      "needs_background": "light"
     },
     "output_type": "display_data"
    }
   ],
   "source": [
    "plt.plot(N_list, tau_f)"
   ]
  }
 ],
 "metadata": {
  "kernelspec": {
   "display_name": "Python 3",
   "language": "python",
   "name": "python3"
  },
  "language_info": {
   "codemirror_mode": {
    "name": "ipython",
    "version": 3
   },
   "file_extension": ".py",
   "mimetype": "text/x-python",
   "name": "python",
   "nbconvert_exporter": "python",
   "pygments_lexer": "ipython3",
   "version": "3.7.6"
  }
 },
 "nbformat": 4,
 "nbformat_minor": 4
}
